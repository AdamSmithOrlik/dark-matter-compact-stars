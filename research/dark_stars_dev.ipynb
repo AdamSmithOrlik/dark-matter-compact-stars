{
 "cells": [
  {
   "cell_type": "markdown",
   "metadata": {},
   "source": [
    "# Imports"
   ]
  },
  {
   "cell_type": "code",
   "execution_count": 17,
   "metadata": {
    "collapsed": true
   },
   "outputs": [
    {
     "name": "stderr",
     "output_type": "stream",
     "text": [
      "/Users/adamsmith/opt/anaconda3/lib/python3.9/site-packages/scipy/__init__.py:146: UserWarning: A NumPy version >=1.16.5 and <1.23.0 is required for this version of SciPy (detected version 1.26.1\n",
      "  warnings.warn(f\"A NumPy version >={np_minversion} and <{np_maxversion}\"\n"
     ]
    }
   ],
   "source": [
    "import numpy as np\n",
    "from scipy.integrate import solve_ivp\n",
    "import matplotlib.pyplot as plt\n",
    "import pandas as pd"
   ]
  },
  {
   "cell_type": "markdown",
   "metadata": {},
   "source": [
    "# Thoery"
   ]
  },
  {
   "cell_type": "markdown",
   "metadata": {},
   "source": [
    "## Summary of goal"
   ]
  },
  {
   "cell_type": "markdown",
   "metadata": {},
   "source": [
    "The goal of this research is to develop the theory of dark matter compact stars in a simple particle physics realization of the dark sector including a single massive boson.\n",
    "\n",
    "In order to do so we need to solve the [Tolman-Oppenheimer-Volkov](https://en.wikipedia.org/wiki/Tolman%E2%80%93Oppenheimer%E2%80%93Volkoff_equation) which gives the structure of spherically symmetric and isotropic material in static gravitational equilibrium. Doing so will give the mass and denisty of compact objects. \n",
    "\n",
    "To solve the TOV equations for a dark boson we need the equation of state for such a particle. Following [Chang et al.](https://arxiv.org/pdf/1812.07000.pdf) we can define an analogous quantity to the cooling rate given by Eq. 40, where instead we substitue Stefan-Boltzman relation for a black body. \n",
    "\n",
    "With the equation of state for a massive boson we should be able to solve the dimensionless TOV equations. "
   ]
  },
  {
   "cell_type": "markdown",
   "metadata": {},
   "source": [
    "## Theory background"
   ]
  },
  {
   "cell_type": "markdown",
   "metadata": {},
   "source": [
    "The mean free path for a dark boson is given by, \n",
    "\n",
    "$$  l_{db} = \\frac{1}{\\sigma_{DM}n_{db}}, $$\n",
    "\n",
    "where $\\sigma_{DM}$ is the self-interaction cross-section, $n_{db}\\equiv \\rho_{db}/m_{db}$ is the dark boson number density.  \n",
    "\n",
    "Question: do we need to be in a specific regime for dark-boson self-interactions to be common on the scale of the purtubation? \n",
    "\n",
    "Question: need an equation for the pressure. Can we just take the ideal gas law?\n",
    "\n",
    "Question: what mass scales for the dark boson ensure halo formation via gravitational collapse?\n",
    "\n",
    "The jeans condition a dark boson with scale $\\lambda_P$ is unstable to gravtational collapse if $\\lambda_P >= \\lambda_j$ where $\\lambda_j$ is given by, \n",
    "\n",
    "$$ \\lambda_j = c_s (\\frac{\\pi}{\\rho G})^{1/2} $$\n",
    "\n",
    "where $c_s$ is the dark boson speed of sound and $\\rho$ is the total DM density.\n",
    "\n",
    "Collapse of dark boson overdensities occur is the mass of the overdensity, $M$, exceed the Jeans mass, i.e.,\n",
    "\n",
    "$$ m_j\\equiv \\frac{4\\pi}{3}(\\frac{\\lambda_j}{2})^3 \\rho_{bd} = \\frac{\\pi}{6}c_s^3 (\\frac{\\pi}{\\rho G})^{3/2}\\rho_{bd}, $$\n",
    "\n",
    "where $\\rho$ is the sum of the CDM, baryonic and dark boson densities. \n",
    "\n",
    "By obtaining temperature/densities at the last point of fragmentation we can then determine the mass and compactness of exotic dark bosom compact objects. \n",
    "\n",
    "Furthermore, we can calculate their abundance, $N_{max}$.\n"
   ]
  },
  {
   "cell_type": "markdown",
   "metadata": {},
   "source": [
    "The star structure itself can be obtained by solving the Tolman-Oppenheimer-Volkoff (TOV) equations. The TOV equations are a system of coupled differential equations (DE) relating the pressure and mass of a perfect fluid at rest, written, \n",
    "\n",
    "$$ \\frac{dp}{dr} = -\\frac{GM\\rho}{r^2}\\left(1+\\frac{p}{\\rho}\\right)\\left(1+\\frac{4\\pi r^3 p}{M}\\right)\\left(1-\\frac{2GM}{r}\\right)^{-1} $$\n",
    "\n",
    "and, \n",
    "\n",
    "$$ \\frac{dM}{dr} = 4\\pi r^2 \\rho $$\n",
    "\n",
    "where $p$ is the pressure as a function of radius, $\\rho$ the density, $M$ mass. To fully specify the system one also needs an equation of state (EOS), i.e. a function of the form $p(\\rho)$.\n",
    "\n",
    "The boundary conditions for the DE are: at $r=0$ pressure is constant, $p_0$, and at $r=R$ the pressure goes to 0 such that $p(R)=0$. The mass, $M(r)$ is then integrated from $r=0$ to $r=R$. \n",
    "\n",
    "We want to write the TOV equations in dimensionless form. To do so we make the following substitutions: $p'=p/\\rho_0$, $\\rho'=\\rho / \\rho_0$, $M'=M/a$, and $r'=r/b$.\n",
    "\n",
    "To get the scaling we make the above substitutions and relate the following dimensionless terms, \n",
    "\n",
    "$$ \\frac{a}{M_p^2 b}=1 \\,\\,\\, \\text{and} \\,\\,\\, \\frac{b^2\\rho_0}{a}=1 $$\n",
    "\n",
    "where $M_p$ is the Planck mass. Identifying $\\rho_0=m_b^4$, where $m_b$ is the mass of the boson, and solving the above we get the scaling relations, \n",
    "\n",
    "$$ a=\\frac{M_p^3}{m_b^2} \\,\\,\\, \\text{and} \\,\\,\\, b=\\frac{M_p}{m_b^2} $$\n",
    "\n",
    "Once the dimesionless TOV equations are scaled in terms of the Planck Mass, $M_p$, and the boson mass, $m_b$, we need only solve the equation once and then rescale appropriately for specific astrophysical cases. \n",
    "\n",
    "The dimensionless EOS for a boson is given by,\n",
    "\n",
    "$$ p'=y^2n_b^{'2}  \\,\\,\\, \\text{and} \\,\\,\\, \\rho'=n'_b+y^2n_b^{'2}$$\n",
    "\n",
    "where $n_b^{'}=n_b/m_b^3$."
   ]
  },
  {
   "cell_type": "markdown",
   "metadata": {},
   "source": [
    "# TOV Equations"
   ]
  },
  {
   "cell_type": "markdown",
   "metadata": {},
   "source": [
    "Let's substitute the dimensionless parameters defined above into the TOV equations. Subbing in $p = p'\\rho_0$, $\\rho=\\rho '\\rho_0$ and so on into the dimensionful TOV equations we get,  \n",
    "\n",
    "$$ \\frac{dp'}{dr'} = -\\frac{M'\\rho '}{r^{'2}} \\left(\\frac{a}{M_p^2 b}\\right)\\left(1+\\frac{p'}{\\rho '}\\right)\\left(1+\\frac{4\\pi r^{'3} p'}{M'}\\frac{b^3\\rho_0}{a}\\right)\\left(1-\\frac{2M'}{r'}\\left(\\frac{a}{M_p^2 b}\\right)\\right)^{-1} $$\n",
    "\n",
    "and, \n",
    "\n",
    "$$ \\frac{dM'}{dr'} = 4\\pi r^{'2} \\rho ' \\frac{b^3 \\rho_0}{a} $$\n",
    "\n",
    "which after we idenitfy $\\frac{a}{M_p^2 b}=1$ and $\\frac{b^2\\rho_0}{a}=1$ we get back the TOV equations only in terms of the primed (dimensionless quantities), i.e., \n",
    "\n",
    "$$ \\frac{dp'}{dr'} = -\\frac{M'\\rho '}{r^{'2}}\\left(1+\\frac{p'}{\\rho '}\\right)\\left(1+\\frac{4\\pi r^{'3} p'}{M'}\\right)\\left(1-\\frac{2M'}{r'}\\right)^{-1} $$\n",
    "\n",
    "and, \n",
    "\n",
    "$$ \\frac{dM'}{dr'} = 4\\pi r^{'2} \\rho ' $$\n",
    "\n",
    "Now we need the to substitube the EOS in for $p'$ and $\\rho '$. \n",
    "\n",
    "This will give the TOV equations in terms of the free parameters $M'$, $y$, $n_b$, and $m_b$, while $r'$ is the independant variable that needs to be integrated over."
   ]
  },
  {
   "cell_type": "code",
   "execution_count": 38,
   "metadata": {},
   "outputs": [],
   "source": [
    "## code the dimensionless TOV equations \n",
    "\n",
    "# free parameters \n",
    "nb = 1\n",
    "mb = 1\n",
    "y=1e-2\n",
    "m_prime = 1e2\n",
    "\n",
    "# nb'=nb/mb^3\n",
    "nb_prime = nb/mb**3\n",
    "\n",
    "# TOV functions\n",
    "def p_prime(y, nb):\n",
    "    return y**2 * nb**2\n",
    "\n",
    "def rho_prime(y, nb):\n",
    "    return nb + (y**2 * nb**2)\n",
    "\n",
    "def TOV(r, params):\n",
    "    if r <= 0: # avoid division by zero\n",
    "        return [0, 0]\n",
    "    p, M = params\n",
    "    if M == 0: # avoid division by zero\n",
    "        M=1e-4\n",
    "        \n",
    "    # rho in terms of \n",
    "    rho = rho_prime(y,nb_prime)\n",
    "    \n",
    "    prefactor = -(M*rho)/r**2\n",
    "    corr1 = (1 + (p/rho) )\n",
    "    corr2 = (1 + ((4*np.pi*r**3*p)/M) )\n",
    "    corr3 = 1 / (1 - ((2*M)/r))\n",
    "    dpdr = prefactor * corr1 * corr2 * corr3\n",
    "    \n",
    "    dMdr = 4*np.pi*r**2*rho\n",
    "    \n",
    "    return [dpdr, dMdr]"
   ]
  },
  {
   "cell_type": "code",
   "execution_count": 41,
   "metadata": {},
   "outputs": [
    {
     "data": {
      "text/plain": [
       "[-2513.404813407605, 125676.27251420608]"
      ]
     },
     "execution_count": 41,
     "metadata": {},
     "output_type": "execute_result"
    }
   ],
   "source": [
    "## testing \n",
    "\n",
    "# initial conditions\n",
    "init = (1,0)\n",
    "\n",
    "# test TOV for r = 10\n",
    "\n",
    "TOV(100, init)"
   ]
  },
  {
   "cell_type": "code",
   "execution_count": 77,
   "metadata": {},
   "outputs": [],
   "source": [
    "# integrate the TOV equations to solve for pressure and mass\n",
    "r_prime = np.linspace(1e-6, 1, num=1000) # 1e-2 to 1e3\n",
    "r_span = (r_prime[0], r_prime[-1]) \n",
    "\n",
    "p0=1\n",
    "M0=0\n",
    "\n",
    "initial_conditions = [p0,M0]\n",
    "\n",
    "def pressure_condition(t, params):\n",
    "    p,M = params\n",
    "    return p\n",
    "\n",
    "# condition to stop integration\n",
    "pressure_condition.terminal = True  \n",
    "pressure_condition.direction = -1  \n",
    "\n",
    "# solve the differential TOV equation\n",
    "sol = solve_ivp(TOV, r_span, initial_conditions, t_eval=r_prime, method='RK45',  events=pressure_condition)\n",
    "\n",
    "# Extracting results\n",
    "r_sol = sol.t\n",
    "p_sol = sol.y[0]\n",
    "M_sol = sol.y[1]"
   ]
  },
  {
   "cell_type": "code",
   "execution_count": 78,
   "metadata": {},
   "outputs": [
    {
     "data": {
      "text/plain": [
       "Text(0, 0.5, \"M'\")"
      ]
     },
     "execution_count": 78,
     "metadata": {},
     "output_type": "execute_result"
    },
    {
     "data": {
      "image/png": "[encoded data removed]",
      "text/plain": [
       "<Figure size 432x288 with 1 Axes>"
      ]
     },
     "metadata": {
      "needs_background": "light"
     },
     "output_type": "display_data"
    }
   ],
   "source": [
    "plt.plot(r_sol, M_sol)\n",
    "plt.yscale('log')\n",
    "plt.xlabel(\"r'\")\n",
    "plt.ylabel(\"M'\")"
   ]
  },
  {
   "cell_type": "code",
   "execution_count": 85,
   "metadata": {},
   "outputs": [
    {
     "data": {
      "text/plain": [
       "(-0.2, 1.0)"
      ]
     },
     "execution_count": 85,
     "metadata": {},
     "output_type": "execute_result"
    },
    {
     "data": {
      "image/png": "[encoded data removed]",
      "text/plain": [
       "<Figure size 432x288 with 1 Axes>"
      ]
     },
     "metadata": {
      "needs_background": "light"
     },
     "output_type": "display_data"
    }
   ],
   "source": [
    "plt.plot(r_sol, p_sol)\n",
    "plt.yscale('log')\n",
    "# plt.xscale('log')\n",
    "plt.xlabel(\"r'\")\n",
    "plt.ylabel(\"p'\")\n",
    "plt.xlim(-0.2,1)"
   ]
  },
  {
   "cell_type": "markdown",
   "metadata": {},
   "source": [
    "To get $\\rho'$ from $p'$ we can use the EOS, noting that $n'_b = \\sqrt{p'/y^2}$ \n",
    "\n",
    "$$ \\rho' =  \\sqrt{p'/y^2} + p'$$\n",
    "\n"
   ]
  },
  {
   "cell_type": "code",
   "execution_count": 72,
   "metadata": {},
   "outputs": [],
   "source": [
    "rho_sol = np.sqrt(p_sol/y**2) + p_sol"
   ]
  },
  {
   "cell_type": "code",
   "execution_count": 76,
   "metadata": {},
   "outputs": [
    {
     "data": {
      "text/plain": [
       "Text(0, 0.5, \"rho'\")"
      ]
     },
     "execution_count": 76,
     "metadata": {},
     "output_type": "execute_result"
    },
    {
     "data": {
      "image/png": "[encoded data removed]",
      "text/plain": [
       "<Figure size 432x288 with 1 Axes>"
      ]
     },
     "metadata": {
      "needs_background": "light"
     },
     "output_type": "display_data"
    }
   ],
   "source": [
    "plt.plot(r_sol, rho_sol)\n",
    "plt.yscale('log')\n",
    "# plt.xscale('log')\n",
    "plt.xlabel(\"r'\")\n",
    "plt.ylabel(\"rho'\")"
   ]
  },
  {
   "cell_type": "markdown",
   "metadata": {},
   "source": [
    "# Scaling relations and interaction terms"
   ]
  },
  {
   "cell_type": "code",
   "execution_count": null,
   "metadata": {},
   "outputs": [],
   "source": []
  }
 ],
 "metadata": {
  "kernelspec": {
   "display_name": "Python 3 (ipykernel)",
   "language": "python",
   "name": "python3"
  },
  "language_info": {
   "codemirror_mode": {
    "name": "ipython",
    "version": 3
   },
   "file_extension": ".py",
   "mimetype": "text/x-python",
   "name": "python",
   "nbconvert_exporter": "python",
   "pygments_lexer": "ipython3",
   "version": "3.9.12"
  },
  "toc": {
   "base_numbering": 1,
   "nav_menu": {},
   "number_sections": true,
   "sideBar": true,
   "skip_h1_title": false,
   "title_cell": "Table of Contents",
   "title_sidebar": "Contents",
   "toc_cell": false,
   "toc_position": {},
   "toc_section_display": true,
   "toc_window_display": false
  }
 },
 "nbformat": 4,
 "nbformat_minor": 2
}
