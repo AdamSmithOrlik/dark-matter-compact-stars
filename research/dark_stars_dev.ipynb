{
 "cells": [
  {
   "cell_type": "markdown",
   "metadata": {},
   "source": [
    "# Imports"
   ]
  },
  {
   "cell_type": "code",
   "execution_count": 1,
   "metadata": {},
   "outputs": [],
   "source": [
    "import numpy as np\n",
    "import matplotlib.pyplot as plt\n",
    "import pandas as pd"
   ]
  },
  {
   "cell_type": "markdown",
   "metadata": {},
   "source": [
    "# Thoery"
   ]
  },
  {
   "cell_type": "markdown",
   "metadata": {},
   "source": [
    "## Summary of goal"
   ]
  },
  {
   "cell_type": "markdown",
   "metadata": {},
   "source": [
    "The goal of this research is to develop the theory of dark matter compact stars in a simple particle physics realization of the dark sector including a single massive boson.\n",
    "\n",
    "In order to do so we need to solve the [Tolman-Oppenheimer-Volkov](https://en.wikipedia.org/wiki/Tolman%E2%80%93Oppenheimer%E2%80%93Volkoff_equation) which gives the structure of spherically symmetric and isotropic material in static gravitational equilibrium. Doing so will give the mass and denisty of compact objects. \n",
    "\n",
    "To solve the TOV equations for a dark boson we need the equation of state for such a particle. Following [Chang et al.](https://arxiv.org/pdf/1812.07000.pdf) we can define an analogous quantity to the cooling rate given by Eq. 40, where instead we substitue Stefan-Boltzman relation for a black body. \n",
    "\n",
    "With the equation of state for a massive boson we should be able to solve the dimensionless TOV equations. "
   ]
  },
  {
   "cell_type": "markdown",
   "metadata": {},
   "source": [
    "## Theory background"
   ]
  },
  {
   "cell_type": "markdown",
   "metadata": {},
   "source": [
    "The mean free path for a dark boson is given by, \n",
    "\n",
    "$$  l_{db} = \\frac{1}{\\sigma_{DM}n_{db}}, $$\n",
    "\n",
    "where $\\sigma_{DM}$ is the self-interaction cross-section, $n_{db}\\equiv \\rho_{db}/m_{db}$ is the dark boson number density.  \n",
    "\n",
    "Question: do we need to be in a specific regime for dark-boson self-interactions to be common on the scale of the purtubation? \n",
    "\n",
    "Question: need an equation for the pressure. Can we just take the ideal gas law?\n",
    "\n",
    "Question: what mass scales for the dark boson ensure halo formation via gravitational collapse?\n",
    "\n",
    "The jeans condition a dark boson with scale $\\lambda_P$ is unstable to gravtational collapse if $\\lambda_P >= \\lambda_j$ where $\\lambda_j$ is given by, \n",
    "\n",
    "$$ \\lambda_j = c_s (\\frac{\\pi}{\\rho G})^{1/2} $$\n",
    "\n",
    "where $c_s$ is the dark boson speed of sound and $\\rho$ is the total DM density.\n",
    "\n",
    "Collapse of dark boson overdensities occur is the mass of the overdensity, $M$, exceed the Jeans mass, i.e.,\n",
    "\n",
    "$$ m_j\\equiv \\frac{4\\pi}{3}(\\frac{\\lambda_j}{2})^3 \\rho_{bd} = \\frac{\\pi}{6}c_s^3 (\\frac{\\pi}{\\rho G})^{3/2}\\rho_{bd}, $$\n",
    "\n",
    "where $\\rho$ is the sum of the CDM, baryonic and dark boson densities. \n",
    "\n",
    "By obtaining temperature/densities at the last point of fragmentation we can then determine the mass and compactness of exotic dark bosom compact objects. \n",
    "\n",
    "Furthermore, we can calculate their abundance, $N_{max}$.\n"
   ]
  },
  {
   "cell_type": "code",
   "execution_count": null,
   "metadata": {},
   "outputs": [],
   "source": []
  },
  {
   "cell_type": "markdown",
   "metadata": {},
   "source": [
    "# TOV Equations"
   ]
  },
  {
   "cell_type": "code",
   "execution_count": null,
   "metadata": {},
   "outputs": [],
   "source": []
  },
  {
   "cell_type": "markdown",
   "metadata": {},
   "source": [
    "# Dark matter massive Boson "
   ]
  },
  {
   "cell_type": "code",
   "execution_count": null,
   "metadata": {},
   "outputs": [],
   "source": []
  }
 ],
 "metadata": {
  "kernelspec": {
   "display_name": "Python 3 (ipykernel)",
   "language": "python",
   "name": "python3"
  },
  "language_info": {
   "codemirror_mode": {
    "name": "ipython",
    "version": 3
   },
   "file_extension": ".py",
   "mimetype": "text/x-python",
   "name": "python",
   "nbconvert_exporter": "python",
   "pygments_lexer": "ipython3",
   "version": "3.9.12"
  },
  "toc": {
   "base_numbering": 1,
   "nav_menu": {},
   "number_sections": true,
   "sideBar": true,
   "skip_h1_title": false,
   "title_cell": "Table of Contents",
   "title_sidebar": "Contents",
   "toc_cell": false,
   "toc_position": {},
   "toc_section_display": true,
   "toc_window_display": false
  }
 },
 "nbformat": 4,
 "nbformat_minor": 2
}
