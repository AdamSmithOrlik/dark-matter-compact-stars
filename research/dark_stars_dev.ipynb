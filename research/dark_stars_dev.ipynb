{
 "cells": [
  {
   "cell_type": "markdown",
   "metadata": {},
   "source": [
    "# Imports"
   ]
  },
  {
   "cell_type": "code",
   "execution_count": 1,
   "metadata": {},
   "outputs": [
    {
     "name": "stderr",
     "output_type": "stream",
     "text": [
      "/Users/adamsmith/opt/anaconda3/lib/python3.9/site-packages/scipy/__init__.py:146: UserWarning: A NumPy version >=1.16.5 and <1.23.0 is required for this version of SciPy (detected version 1.26.1\n",
      "  warnings.warn(f\"A NumPy version >={np_minversion} and <{np_maxversion}\"\n"
     ]
    }
   ],
   "source": [
    "import numpy as np\n",
    "from scipy.integrate import solve_ivp\n",
    "from scipy.interpolate import interp1d\n",
    "from scipy.optimize import brentq, newton\n",
    "import matplotlib.pyplot as plt\n",
    "import pandas as pd"
   ]
  },
  {
   "cell_type": "markdown",
   "metadata": {},
   "source": [
    "# Thoery"
   ]
  },
  {
   "cell_type": "markdown",
   "metadata": {},
   "source": [
    "## Summary of goal"
   ]
  },
  {
   "cell_type": "markdown",
   "metadata": {},
   "source": [
    "The goal of this research is to develop the theory of dark matter compact stars in a simple particle physics realization of the dark sector including a single massive boson.\n",
    "\n",
    "In order to do so we need to solve the [Tolman-Oppenheimer-Volkov](https://en.wikipedia.org/wiki/Tolman%E2%80%93Oppenheimer%E2%80%93Volkoff_equation) which gives the structure of spherically symmetric and isotropic material in static gravitational equilibrium. Doing so will give the mass and denisty of compact objects. \n",
    "\n",
    "To solve the TOV equations for a dark boson we need the equation of state for such a particle. Following [Chang et al.](https://arxiv.org/pdf/1812.07000.pdf) we can define an analogous quantity to the cooling rate given by Eq. 40, where instead we substitue Stefan-Boltzman relation for a black body. \n",
    "\n",
    "With the equation of state for a massive boson we should be able to solve the dimensionless TOV equations. "
   ]
  },
  {
   "cell_type": "markdown",
   "metadata": {},
   "source": [
    "## Theory background"
   ]
  },
  {
   "cell_type": "markdown",
   "metadata": {},
   "source": [
    "The mean free path for a dark boson is given by, \n",
    "\n",
    "$$  l_{db} = \\frac{1}{\\sigma_{DM}n_{db}}, $$\n",
    "\n",
    "where $\\sigma_{DM}$ is the self-interaction cross-section, $n_{db}\\equiv \\rho_{db}/m_{db}$ is the dark boson number density.  \n",
    "\n",
    "Question: do we need to be in a specific regime for dark-boson self-interactions to be common on the scale of the purtubation? \n",
    "\n",
    "Question: need an equation for the pressure. Can we just take the ideal gas law?\n",
    "\n",
    "Question: what mass scales for the dark boson ensure halo formation via gravitational collapse?\n",
    "\n",
    "The jeans condition a dark boson with scale $\\lambda_P$ is unstable to gravtational collapse if $\\lambda_P >= \\lambda_j$ where $\\lambda_j$ is given by, \n",
    "\n",
    "$$ \\lambda_j = c_s (\\frac{\\pi}{\\rho G})^{1/2} $$\n",
    "\n",
    "where $c_s$ is the dark boson speed of sound and $\\rho$ is the total DM density.\n",
    "\n",
    "Collapse of dark boson overdensities occur is the mass of the overdensity, $M$, exceed the Jeans mass, i.e.,\n",
    "\n",
    "$$ m_j\\equiv \\frac{4\\pi}{3}(\\frac{\\lambda_j}{2})^3 \\rho_{bd} = \\frac{\\pi}{6}c_s^3 (\\frac{\\pi}{\\rho G})^{3/2}\\rho_{bd}, $$\n",
    "\n",
    "where $\\rho$ is the sum of the CDM, baryonic and dark boson densities. \n",
    "\n",
    "By obtaining temperature/densities at the last point of fragmentation we can then determine the mass and compactness of exotic dark bosom compact objects. \n",
    "\n",
    "Furthermore, we can calculate their abundance, $N_{max}$.\n"
   ]
  },
  {
   "cell_type": "markdown",
   "metadata": {},
   "source": [
    "The star structure itself can be obtained by solving the Tolman-Oppenheimer-Volkoff (TOV) equations. The TOV equations are a system of coupled differential equations (DE) relating the pressure and mass of a spherically symmetric fluid at rest, written, \n",
    "\n",
    "$$ \\frac{dp}{dr} = -\\frac{GM\\rho}{r^2}\\left(1+\\frac{p}{\\rho}\\right)\\left(1+\\frac{4\\pi r^3 p}{M}\\right)\\left(1-\\frac{2GM}{r}\\right)^{-1} $$\n",
    "\n",
    "and, \n",
    "\n",
    "$$ \\frac{dM}{dr} = 4\\pi r^2 \\rho $$\n",
    "\n",
    "where $p$ is the pressure as a function of radius, $\\rho$ the density, $M$ mass. To fully specify the system one also needs an equation of state (EOS), i.e. a function of the form $p(\\rho)$.\n",
    "\n",
    "The boundary conditions for the DE are: at $r=0$ pressure is constant, $p_0$, and at $r=R$ the pressure goes to 0 such that $p(R)=0$. The mass, $M(r)$ is then integrated from $r=0$ to $r=R$. \n",
    "\n",
    "We want to write the TOV equations in dimensionless form. To do so we make the following substitutions: $p'=p/\\rho_0$, $\\rho'=\\rho / \\rho_0$, $M'=M/a$, and $r'=r/b$.\n",
    "\n",
    "To get the scaling we make the above substitutions and relate the following dimensionless terms, \n",
    "\n",
    "$$ \\frac{a}{M_p^2 b}=1 \\,\\,\\, \\text{and} \\,\\,\\, \\frac{b^2\\rho_0}{a}=1 $$\n",
    "\n",
    "where $M_p$ is the Planck mass. Identifying $\\rho_0=m_b^4$, where $m_b$ is the mass of the boson, and solving the above we get the scaling relations, \n",
    "\n",
    "$$ a=\\frac{M_p^3}{m_b^2} \\,\\,\\, \\text{and} \\,\\,\\, b=\\frac{M_p}{m_b^2} $$\n",
    "\n",
    "Once the dimesionless TOV equations are scaled in terms of the Planck Mass, $M_p$, and the boson mass, $m_b$, we need only solve the equation once and then rescale appropriately for specific astrophysical cases. \n",
    "\n",
    "The dimensionless EOS for a boson is given by,\n",
    "\n",
    "$$ p'=y^2n_b^{'2}  \\,\\,\\, \\text{and} \\,\\,\\, \\rho'=n'_b+y^2n_b^{'2}$$\n",
    "\n",
    "where $n_b^{'}=n_b/m_b^3$."
   ]
  },
  {
   "cell_type": "markdown",
   "metadata": {},
   "source": [
    "# TOV Equations"
   ]
  },
  {
   "cell_type": "markdown",
   "metadata": {},
   "source": [
    "Let's substitute the dimensionless parameters defined above into the TOV equations. Subbing in $p = p'\\rho_0$, $\\rho=\\rho '\\rho_0$ and so on into the dimensionful TOV equations we get,  \n",
    "\n",
    "$$ \\frac{dp'}{dr'} = -\\frac{M'\\rho '}{r^{'2}} \\left(\\frac{a}{M_p^2 b}\\right)\\left(1+\\frac{p'}{\\rho '}\\right)\\left(1+\\frac{4\\pi r^{'3} p'}{M'}\\frac{b^3\\rho_0}{a}\\right)\\left(1-\\frac{2M'}{r'}\\left(\\frac{a}{M_p^2 b}\\right)\\right)^{-1} $$\n",
    "\n",
    "and, \n",
    "\n",
    "$$ \\frac{dM'}{dr'} = 4\\pi r^{'2} \\rho ' \\frac{b^3 \\rho_0}{a} $$\n",
    "\n",
    "which after we idenitfy $\\frac{a}{M_p^2 b}=1$ and $\\frac{b^2\\rho_0}{a}=1$ we get back the TOV equations only in terms of the primed (dimensionless quantities), i.e., \n",
    "\n",
    "$$ \\frac{dp'}{dr'} = -\\frac{M'\\rho '}{r^{'2}}\\left(1+\\frac{p'}{\\rho '}\\right)\\left(1+\\frac{4\\pi r^{'3} p'}{M'}\\right)\\left(1-\\frac{2M'}{r'}\\right)^{-1} $$\n",
    "\n",
    "and, \n",
    "\n",
    "$$ \\frac{dM'}{dr'} = 4\\pi r^{'2} \\rho ' $$\n",
    "\n",
    "Now we need the to substitube the EOS in for $p'$ and $\\rho '$. \n",
    "\n",
    "This will give the TOV equations in terms of the free parameters $M'$, $y$, $n_b$, and $m_b$, while $r'$ is the independant variable that needs to be integrated over.\n",
    "\n",
    "NOTE: get energy as a function of the number density..."
   ]
  },
  {
   "cell_type": "code",
   "execution_count": 2,
   "metadata": {},
   "outputs": [],
   "source": [
    "## code the dimensionless TOV equations \n",
    "\n",
    "# free parameters \n",
    "nb = 1\n",
    "mb = 1\n",
    "y=1\n",
    "m_prime = 1e2\n",
    "\n",
    "# nb'=nb/mb^3\n",
    "nb_prime = nb/mb**3\n",
    "\n",
    "# TOV functions\n",
    "def p_prime(y, nb):\n",
    "    return y**2 * nb**2\n",
    "\n",
    "def rho_prime(y, nb):\n",
    "    return nb + (y**2 * nb**2)\n",
    "\n",
    "def TOV(r, params):\n",
    "\n",
    "    p, M = params\n",
    "    \n",
    "    # handle singularities\n",
    "    r = max(r, 1e-6)\n",
    "    M = max(M, 1e-10)\n",
    "    # rho in terms of \n",
    "    # rho = rho_prime(y,nb_prime)\n",
    "    \n",
    "    K = 10  \n",
    "    n = 1    \n",
    "    gamma = 1 + 1/n\n",
    "    \n",
    "    # Calculate rho from p using the inverted polytropic EOS\n",
    "    rho = (p / K)**(1/gamma)\n",
    "    \n",
    "#     rho = np.sqrt(np.abs(p))+p # defined by the equation of state\n",
    "    \n",
    "    prefactor = -(M*rho)/r**2\n",
    "    corr1 = (1 + (p/rho) )\n",
    "    corr2 = (1 + ((4*np.pi*r**3*p)/M) )\n",
    "    corr3 = (1 - ((2*M)/r))**(-1)\n",
    "    dpdr = prefactor * corr1 * corr2 * corr3\n",
    "    \n",
    "    dMdr = 4*np.pi*r**2*rho\n",
    "    \n",
    "    return [dpdr, dMdr]"
   ]
  },
  {
   "cell_type": "code",
   "execution_count": 22,
   "metadata": {},
   "outputs": [
    {
     "data": {
      "text/plain": [
       "[-1654.0205920710691, 39738.353063184404]"
      ]
     },
     "execution_count": 22,
     "metadata": {},
     "output_type": "execute_result"
    }
   ],
   "source": [
    "## testing \n",
    "\n",
    "# initial conditions\n",
    "init = (1,0)\n",
    "\n",
    "# test TOV for r = 10\n",
    "\n",
    "TOV(100, init)"
   ]
  },
  {
   "cell_type": "code",
   "execution_count": 6,
   "metadata": {},
   "outputs": [
    {
     "name": "stderr",
     "output_type": "stream",
     "text": [
      "/var/folders/71/rd8s6g0x52sd1l6wnf9_z6_r0000gn/T/ipykernel_15405/948735689.py:34: RuntimeWarning: invalid value encountered in scalar power\n",
      "  rho = (p / K)**(1/gamma)\n"
     ]
    }
   ],
   "source": [
    "# integrate the TOV equations to solve for pressure and mass\n",
    "r_prime = np.linspace(1e-8, 1e2, num=1000) # 1e-2 to 1e3\n",
    "r_span = (r_prime[0], r_prime[-1]) \n",
    "\n",
    "# vary the initial pressure \n",
    "p0=1\n",
    "M0=0\n",
    "\n",
    "initial_conditions = [p0,M0]\n",
    "\n",
    "def pressure_condition(r, params):\n",
    "    p,M = params\n",
    "    return p\n",
    "\n",
    "# condition to stop integration\n",
    "pressure_condition.terminal = True  \n",
    "pressure_condition.direction = -1  \n",
    "\n",
    "# solve the differential TOV equation\n",
    "sol = solve_ivp(TOV, r_span, initial_conditions, t_eval=r_prime, method='RK45',  events=pressure_condition)\n",
    "\n",
    "# Extracting results\n",
    "r_sol = sol.t\n",
    "p_sol = sol.y[0]\n",
    "M_sol = sol.y[1]\n",
    "\n",
    "# define R' as the radius when the pressure vanishes, i.e. r_sol[-1] and create a list of R' for various intitial pressures"
   ]
  },
  {
   "cell_type": "code",
   "execution_count": 7,
   "metadata": {},
   "outputs": [
    {
     "data": {
      "text/plain": [
       "Text(0, 0.5, \"M'\")"
      ]
     },
     "execution_count": 7,
     "metadata": {},
     "output_type": "execute_result"
    },
    {
     "data": {
      "image/png": "[encoded data removed]",
      "text/plain": [
       "<Figure size 432x288 with 1 Axes>"
      ]
     },
     "metadata": {
      "needs_background": "light"
     },
     "output_type": "display_data"
    }
   ],
   "source": [
    "plt.plot(r_sol, M_sol)\n",
    "# plt.yscale('log')\n",
    "plt.xlabel(\"r'\")\n",
    "plt.ylabel(\"M'\")"
   ]
  },
  {
   "cell_type": "code",
   "execution_count": 11,
   "metadata": {},
   "outputs": [
    {
     "data": {
      "text/plain": [
       "Text(0, 0.5, \"p'\")"
      ]
     },
     "execution_count": 11,
     "metadata": {},
     "output_type": "execute_result"
    },
    {
     "data": {
      "image/png": "[encoded data removed]",
      "text/plain": [
       "<Figure size 432x288 with 1 Axes>"
      ]
     },
     "metadata": {
      "needs_background": "light"
     },
     "output_type": "display_data"
    }
   ],
   "source": [
    "plt.plot(r_sol, p_sol)\n",
    "plt.yscale('log')\n",
    "# plt.xscale('log')\n",
    "plt.xlabel(\"r'\")\n",
    "plt.ylabel(\"p'\")\n",
    "# plt.xlim(-0.2,1)"
   ]
  },
  {
   "cell_type": "code",
   "execution_count": 62,
   "metadata": {},
   "outputs": [
    {
     "data": {
      "text/plain": [
       "array([1.0000000e-08, 1.0010020e-02, 2.0020030e-02, 3.0030040e-02,\n",
       "       4.0040050e-02, 5.0050060e-02, 6.0060070e-02, 7.0070080e-02,\n",
       "       8.0080090e-02, 9.0090100e-02, 1.0010011e-01, 1.1011012e-01,\n",
       "       1.2012013e-01, 1.3013014e-01, 1.4014015e-01, 1.5015016e-01,\n",
       "       1.6016017e-01, 1.7017018e-01, 1.8018019e-01, 1.9019020e-01,\n",
       "       2.0020021e-01, 2.1021022e-01, 2.2022023e-01, 2.3023024e-01,\n",
       "       2.4024025e-01, 2.5025026e-01, 2.6026027e-01, 2.7027028e-01,\n",
       "       2.8028029e-01, 2.9029030e-01, 3.0030031e-01, 3.1031032e-01,\n",
       "       3.2032033e-01])"
      ]
     },
     "execution_count": 62,
     "metadata": {},
     "output_type": "execute_result"
    }
   ],
   "source": [
    "r_sol"
   ]
  },
  {
   "cell_type": "markdown",
   "metadata": {},
   "source": [
    "R' r when is p'(r) = 0\n",
    "\n",
    "Choose a number of p' and then plot the result of M' and R'"
   ]
  },
  {
   "cell_type": "markdown",
   "metadata": {},
   "source": [
    "To get $\\rho'$ from $p'$ we can use the EOS, noting that $n'_b = \\sqrt{p'/y^2}$ \n",
    "\n",
    "$$ \\rho' =  \\sqrt{p'/y^2} + p'$$\n",
    "\n"
   ]
  },
  {
   "cell_type": "code",
   "execution_count": 16,
   "metadata": {},
   "outputs": [],
   "source": [
    "rho_sol = np.sqrt(p_sol/y**2) + p_sol"
   ]
  },
  {
   "cell_type": "code",
   "execution_count": 17,
   "metadata": {},
   "outputs": [
    {
     "data": {
      "text/plain": [
       "Text(0, 0.5, \"rho'\")"
      ]
     },
     "execution_count": 17,
     "metadata": {},
     "output_type": "execute_result"
    },
    {
     "data": {
      "image/png": "[encoded data removed]",
      "text/plain": [
       "<Figure size 432x288 with 1 Axes>"
      ]
     },
     "metadata": {
      "needs_background": "light"
     },
     "output_type": "display_data"
    }
   ],
   "source": [
    "plt.plot(r_sol, rho_sol)\n",
    "plt.yscale('log')\n",
    "# plt.xscale('log')\n",
    "plt.xlabel(\"r'\")\n",
    "plt.ylabel(\"rho'\")"
   ]
  },
  {
   "cell_type": "markdown",
   "metadata": {},
   "source": [
    "# Plotting M' and R'"
   ]
  },
  {
   "cell_type": "code",
   "execution_count": 12,
   "metadata": {},
   "outputs": [
    {
     "name": "stderr",
     "output_type": "stream",
     "text": [
      "/var/folders/71/rd8s6g0x52sd1l6wnf9_z6_r0000gn/T/ipykernel_15405/948735689.py:34: RuntimeWarning: invalid value encountered in scalar power\n",
      "  rho = (p / K)**(1/gamma)\n",
      "/var/folders/71/rd8s6g0x52sd1l6wnf9_z6_r0000gn/T/ipykernel_15405/948735689.py:34: RuntimeWarning: invalid value encountered in scalar power\n",
      "  rho = (p / K)**(1/gamma)\n",
      "/var/folders/71/rd8s6g0x52sd1l6wnf9_z6_r0000gn/T/ipykernel_15405/948735689.py:34: RuntimeWarning: invalid value encountered in scalar power\n",
      "  rho = (p / K)**(1/gamma)\n",
      "/var/folders/71/rd8s6g0x52sd1l6wnf9_z6_r0000gn/T/ipykernel_15405/948735689.py:34: RuntimeWarning: invalid value encountered in scalar power\n",
      "  rho = (p / K)**(1/gamma)\n",
      "/var/folders/71/rd8s6g0x52sd1l6wnf9_z6_r0000gn/T/ipykernel_15405/948735689.py:34: RuntimeWarning: invalid value encountered in scalar power\n",
      "  rho = (p / K)**(1/gamma)\n",
      "/var/folders/71/rd8s6g0x52sd1l6wnf9_z6_r0000gn/T/ipykernel_15405/948735689.py:34: RuntimeWarning: invalid value encountered in scalar power\n",
      "  rho = (p / K)**(1/gamma)\n",
      "/var/folders/71/rd8s6g0x52sd1l6wnf9_z6_r0000gn/T/ipykernel_15405/948735689.py:34: RuntimeWarning: invalid value encountered in scalar power\n",
      "  rho = (p / K)**(1/gamma)\n",
      "/var/folders/71/rd8s6g0x52sd1l6wnf9_z6_r0000gn/T/ipykernel_15405/948735689.py:34: RuntimeWarning: invalid value encountered in scalar power\n",
      "  rho = (p / K)**(1/gamma)\n",
      "/var/folders/71/rd8s6g0x52sd1l6wnf9_z6_r0000gn/T/ipykernel_15405/948735689.py:34: RuntimeWarning: invalid value encountered in scalar power\n",
      "  rho = (p / K)**(1/gamma)\n",
      "/var/folders/71/rd8s6g0x52sd1l6wnf9_z6_r0000gn/T/ipykernel_15405/948735689.py:34: RuntimeWarning: invalid value encountered in scalar power\n",
      "  rho = (p / K)**(1/gamma)\n",
      "/var/folders/71/rd8s6g0x52sd1l6wnf9_z6_r0000gn/T/ipykernel_15405/948735689.py:34: RuntimeWarning: invalid value encountered in scalar power\n",
      "  rho = (p / K)**(1/gamma)\n",
      "/var/folders/71/rd8s6g0x52sd1l6wnf9_z6_r0000gn/T/ipykernel_15405/948735689.py:34: RuntimeWarning: invalid value encountered in scalar power\n",
      "  rho = (p / K)**(1/gamma)\n",
      "/var/folders/71/rd8s6g0x52sd1l6wnf9_z6_r0000gn/T/ipykernel_15405/948735689.py:34: RuntimeWarning: invalid value encountered in scalar power\n",
      "  rho = (p / K)**(1/gamma)\n",
      "/var/folders/71/rd8s6g0x52sd1l6wnf9_z6_r0000gn/T/ipykernel_15405/948735689.py:34: RuntimeWarning: invalid value encountered in scalar power\n",
      "  rho = (p / K)**(1/gamma)\n",
      "/var/folders/71/rd8s6g0x52sd1l6wnf9_z6_r0000gn/T/ipykernel_15405/948735689.py:34: RuntimeWarning: invalid value encountered in scalar power\n",
      "  rho = (p / K)**(1/gamma)\n",
      "/var/folders/71/rd8s6g0x52sd1l6wnf9_z6_r0000gn/T/ipykernel_15405/948735689.py:34: RuntimeWarning: invalid value encountered in scalar power\n",
      "  rho = (p / K)**(1/gamma)\n",
      "/var/folders/71/rd8s6g0x52sd1l6wnf9_z6_r0000gn/T/ipykernel_15405/948735689.py:34: RuntimeWarning: invalid value encountered in scalar power\n",
      "  rho = (p / K)**(1/gamma)\n",
      "/var/folders/71/rd8s6g0x52sd1l6wnf9_z6_r0000gn/T/ipykernel_15405/948735689.py:34: RuntimeWarning: invalid value encountered in scalar power\n",
      "  rho = (p / K)**(1/gamma)\n",
      "/var/folders/71/rd8s6g0x52sd1l6wnf9_z6_r0000gn/T/ipykernel_15405/948735689.py:34: RuntimeWarning: invalid value encountered in scalar power\n",
      "  rho = (p / K)**(1/gamma)\n",
      "/var/folders/71/rd8s6g0x52sd1l6wnf9_z6_r0000gn/T/ipykernel_15405/948735689.py:34: RuntimeWarning: invalid value encountered in scalar power\n",
      "  rho = (p / K)**(1/gamma)\n"
     ]
    },
    {
     "data": {
      "image/png": "[encoded data removed]",
      "text/plain": [
       "<Figure size 432x288 with 1 Axes>"
      ]
     },
     "metadata": {
      "needs_background": "light"
     },
     "output_type": "display_data"
    }
   ],
   "source": [
    "# need to loop over initial pressures and solve for when p(r) = 0.\n",
    "# that r that satisfies p(r)= 0 is R'\n",
    "initial_pressures = np.linspace(0.1, 10, num=20)\n",
    "star = np.zeros((len(initial_pressures), 3)) # [M,P,R] for each initial pressure\n",
    "\n",
    "r_prime = np.linspace(1e-3, 10, num=100) # 1e-2 to 1e3\n",
    "r_span = (r_prime[0], r_prime[-1]) \n",
    "\n",
    "# initial_pressures = [0.001, 0.01, 0.1, 1] # testing \n",
    "\n",
    "for i, pi in enumerate(initial_pressures):\n",
    "    # initial mass\n",
    "    M0=0\n",
    "    initial_conditions = [pi,M0]\n",
    "    \n",
    "    # solve the differential TOV equation\n",
    "    sol = solve_ivp(TOV, r_span, initial_conditions, t_eval=r_prime, method='RK45', \n",
    "                    events=pressure_condition,  atol=1e-8, rtol=1e-8, dense_output=False)\n",
    "\n",
    "    # Extracting results\n",
    "    r_sol = sol.t\n",
    "    p_sol = sol.y[0]\n",
    "    M_sol = sol.y[1]\n",
    "    plt.plot(r_sol, p_sol)\n",
    "    plt.xlabel('r'); plt.ylabel('pressure')\n",
    "    plt.xscale('log')\n",
    "#     plt.yscale('log')\n",
    "    \n",
    "    # Extract the final radius, mass and pressure\n",
    "    R = r_sol[-1]\n",
    "    M = M_sol[-1]\n",
    "    P = p_sol[-1]\n",
    "    \n",
    "    # save to array\n",
    "    star[i] = [M, P, R]"
   ]
  },
  {
   "cell_type": "code",
   "execution_count": 13,
   "metadata": {},
   "outputs": [
    {
     "data": {
      "text/plain": [
       "Text(0, 0.5, \"M'\")"
      ]
     },
     "execution_count": 13,
     "metadata": {},
     "output_type": "execute_result"
    },
    {
     "data": {
      "image/png": "[encoded data removed]",
      "text/plain": [
       "<Figure size 432x288 with 1 Axes>"
      ]
     },
     "metadata": {
      "needs_background": "light"
     },
     "output_type": "display_data"
    }
   ],
   "source": [
    "# plot M, R\n",
    "M = star[:,0]\n",
    "P = star[:,1]\n",
    "R = star[:,2]\n",
    "\n",
    "plt.plot(R, M)\n",
    "plt.xlabel(\"R'\")\n",
    "plt.ylabel(\"M'\")"
   ]
  },
  {
   "cell_type": "code",
   "execution_count": 14,
   "metadata": {},
   "outputs": [
    {
     "data": {
      "image/png": "[encoded data removed]",
      "text/plain": [
       "<Figure size 432x288 with 1 Axes>"
      ]
     },
     "metadata": {
      "needs_background": "light"
     },
     "output_type": "display_data"
    }
   ],
   "source": [
    "plt.plot(r_sol, p_sol)\n",
    "plt.xscale('log')"
   ]
  },
  {
   "cell_type": "code",
   "execution_count": 118,
   "metadata": {},
   "outputs": [
    {
     "data": {
      "text/plain": [
       "array(5.90434287)"
      ]
     },
     "execution_count": 118,
     "metadata": {},
     "output_type": "execute_result"
    }
   ],
   "source": [
    "p_interp(1e-1)"
   ]
  },
  {
   "cell_type": "code",
   "execution_count": 139,
   "metadata": {},
   "outputs": [
    {
     "name": "stdout",
     "output_type": "stream",
     "text": [
      "Range of x: 0.001 to 0.6070000000000001\n"
     ]
    }
   ],
   "source": [
    "print(f\"Range of x: {min(r_sol)} to {max(r_sol)}\")\n",
    "\n",
    "\n",
    "# failed attempt at interpolating\n",
    "#     # find p(r) = 0\n",
    "#     p_interp = interp1d(r_sol, p_sol, fill_value=\"extrapolate\")\n",
    "#     g = lambda x: p_interp(x) - 0\n",
    "\n",
    "#     R = newton(g, 0.1) \n",
    "    \n",
    "#     M_interp = interp1d(r_sol, p_sol)\n",
    "#     M = M_interp(R)\n",
    "#     P = p_interp(R)"
   ]
  },
  {
   "cell_type": "markdown",
   "metadata": {},
   "source": [
    "# TOV second try  "
   ]
  },
  {
   "cell_type": "markdown",
   "metadata": {},
   "source": [
    "Scaling of the TOV equations \n",
    "\n",
    "Choose an energy scale for the problem $\\epsilon_0$,\n",
    "\n",
    "$$ P = \\epsilon_0 \\cdot P' \\quad \\epsilon = \\epsilon_0 \\cdot \\epsilon '$$\n",
    "\n",
    "where $\\epsilon_0$ has units of energy density"
   ]
  },
  {
   "cell_type": "code",
   "execution_count": 45,
   "metadata": {},
   "outputs": [],
   "source": [
    "def EOS_raditation(P, w):\n",
    "    epsilon = P / w\n",
    "    return epsilon\n",
    "\n",
    "def EOS_boson(P, w):\n",
    "#     print(P)\n",
    "    epsilon = np.sqrt(P/(w**2))+P\n",
    "    return epsilon\n",
    "\n",
    "def tov_equations(r, y, *params):\n",
    "    # Pressure and mass\n",
    "    P, M = y\n",
    "    \n",
    "    # Equation of state for energy density\n",
    "    w, = params\n",
    "    eps = EOS_boson(P, w)\n",
    "\n",
    "    # Handle singularities\n",
    "    r = max(r, 1e-6)\n",
    "    M = max(M, 1e-10)\n",
    "    \n",
    "    # dpdr\n",
    "    prefactor = -(M*eps)/r**2\n",
    "    corr1 = (1 + (P/eps))\n",
    "    corr2 = (1 + ((4*np.pi*(r**3)*P)/M))\n",
    "    corr3 = (1 - ((2*M)/r))**-1\n",
    "    \n",
    "    dpdr = prefactor*corr1*corr2*corr3\n",
    "    \n",
    "    # dmdr\n",
    "    dmdr = 4*np.pi*(r**2)*eps\n",
    "    \n",
    "    return [dpdr, dmdr]"
   ]
  },
  {
   "cell_type": "code",
   "execution_count": 37,
   "metadata": {},
   "outputs": [
    {
     "data": {
      "text/plain": [
       "[24.277284357265287, 50.26548245743669]"
      ]
     },
     "execution_count": 37,
     "metadata": {},
     "output_type": "execute_result"
    }
   ],
   "source": [
    "tov_equations(1, (1,2), 1/3)"
   ]
  },
  {
   "cell_type": "code",
   "execution_count": 78,
   "metadata": {
    "scrolled": true
   },
   "outputs": [
    {
     "name": "stderr",
     "output_type": "stream",
     "text": [
      "/var/folders/71/rd8s6g0x52sd1l6wnf9_z6_r0000gn/T/ipykernel_12514/3423875367.py:7: RuntimeWarning: invalid value encountered in sqrt\n",
      "  epsilon = np.sqrt(P/(w**2))+P\n"
     ]
    }
   ],
   "source": [
    "# Solving the system of differential equations for P and M\n",
    "r_prime = np.linspace(1e-5, 10, num=100000) # 1e-2 to 1e3\n",
    "r_span = (r_prime[0], r_prime[-1]) \n",
    "\n",
    "# vary the initial pressure \n",
    "P0=1\n",
    "M0=0\n",
    "w=(1e-2,)\n",
    "\n",
    "initial_conditions = (P0,M0)\n",
    "params = w\n",
    "\n",
    "def pressure_condition(r, y, *args):\n",
    "    P, M = y\n",
    "    return P\n",
    "\n",
    "# condition to stop integration\n",
    "pressure_condition.terminal = True  \n",
    "pressure_condition.direction = -1  \n",
    "\n",
    "# solve the differential TOV equation\n",
    "sol = solve_ivp(tov_equations, r_span, initial_conditions, \n",
    "                args=params, method='RK45', \n",
    "                events=pressure_condition, \n",
    "                atol=1e-6, rtol=1e-9)\n",
    "\n",
    "# Extracting results\n",
    "r_sol = sol.t\n",
    "p_sol = sol.y[0]\n",
    "M_sol = sol.y[1]"
   ]
  },
  {
   "cell_type": "code",
   "execution_count": 79,
   "metadata": {},
   "outputs": [
    {
     "data": {
      "text/plain": [
       "[<matplotlib.lines.Line2D at 0x7fae1f87e310>]"
      ]
     },
     "execution_count": 79,
     "metadata": {},
     "output_type": "execute_result"
    },
    {
     "data": {
      "image/png": "[encoded data removed]",
      "text/plain": [
       "<Figure size 432x288 with 1 Axes>"
      ]
     },
     "metadata": {
      "needs_background": "light"
     },
     "output_type": "display_data"
    }
   ],
   "source": [
    "plt.loglog(r_sol, p_sol)"
   ]
  },
  {
   "cell_type": "code",
   "execution_count": 80,
   "metadata": {},
   "outputs": [
    {
     "data": {
      "text/plain": [
       "0.012198393881190173"
      ]
     },
     "execution_count": 80,
     "metadata": {},
     "output_type": "execute_result"
    }
   ],
   "source": [
    "r_sol[-1]"
   ]
  },
  {
   "cell_type": "code",
   "execution_count": 84,
   "metadata": {},
   "outputs": [
    {
     "data": {
      "text/plain": [
       "[<matplotlib.lines.Line2D at 0x7fae1f7b25e0>]"
      ]
     },
     "execution_count": 84,
     "metadata": {},
     "output_type": "execute_result"
    },
    {
     "data": {
      "image/png": "[encoded data removed]",
      "text/plain": [
       "<Figure size 432x288 with 1 Axes>"
      ]
     },
     "metadata": {
      "needs_background": "light"
     },
     "output_type": "display_data"
    }
   ],
   "source": [
    "plt.plot(r_sol, M_sol)"
   ]
  },
  {
   "cell_type": "code",
   "execution_count": 201,
   "metadata": {},
   "outputs": [
    {
     "data": {
      "text/plain": [
       "array([1.00000000e-02, 1.83298071e-02, 3.35981829e-02, 6.15848211e-02,\n",
       "       1.12883789e-01, 2.06913808e-01, 3.79269019e-01, 6.95192796e-01,\n",
       "       1.27427499e+00, 2.33572147e+00, 4.28133240e+00, 7.84759970e+00,\n",
       "       1.43844989e+01, 2.63665090e+01, 4.83293024e+01, 8.85866790e+01,\n",
       "       1.62377674e+02, 2.97635144e+02, 5.45559478e+02, 1.00000000e+03])"
      ]
     },
     "execution_count": 201,
     "metadata": {},
     "output_type": "execute_result"
    }
   ],
   "source": [
    "interaction_strength =  np.logspace(-2, 3, 20)\n",
    "interaction_strength"
   ]
  },
  {
   "cell_type": "code",
   "execution_count": 236,
   "metadata": {},
   "outputs": [
    {
     "name": "stderr",
     "output_type": "stream",
     "text": [
      "/var/folders/71/rd8s6g0x52sd1l6wnf9_z6_r0000gn/T/ipykernel_12514/3423875367.py:7: RuntimeWarning: invalid value encountered in sqrt\n",
      "  epsilon = np.sqrt(P/(w**2))+P\n",
      "/var/folders/71/rd8s6g0x52sd1l6wnf9_z6_r0000gn/T/ipykernel_12514/3423875367.py:7: RuntimeWarning: invalid value encountered in sqrt\n",
      "  epsilon = np.sqrt(P/(w**2))+P\n",
      "/var/folders/71/rd8s6g0x52sd1l6wnf9_z6_r0000gn/T/ipykernel_12514/3423875367.py:7: RuntimeWarning: invalid value encountered in sqrt\n",
      "  epsilon = np.sqrt(P/(w**2))+P\n",
      "/var/folders/71/rd8s6g0x52sd1l6wnf9_z6_r0000gn/T/ipykernel_12514/3423875367.py:7: RuntimeWarning: invalid value encountered in sqrt\n",
      "  epsilon = np.sqrt(P/(w**2))+P\n",
      "/var/folders/71/rd8s6g0x52sd1l6wnf9_z6_r0000gn/T/ipykernel_12514/3423875367.py:7: RuntimeWarning: invalid value encountered in sqrt\n",
      "  epsilon = np.sqrt(P/(w**2))+P\n",
      "/var/folders/71/rd8s6g0x52sd1l6wnf9_z6_r0000gn/T/ipykernel_12514/3423875367.py:7: RuntimeWarning: invalid value encountered in sqrt\n",
      "  epsilon = np.sqrt(P/(w**2))+P\n",
      "/var/folders/71/rd8s6g0x52sd1l6wnf9_z6_r0000gn/T/ipykernel_12514/3423875367.py:7: RuntimeWarning: invalid value encountered in sqrt\n",
      "  epsilon = np.sqrt(P/(w**2))+P\n",
      "/var/folders/71/rd8s6g0x52sd1l6wnf9_z6_r0000gn/T/ipykernel_12514/3423875367.py:7: RuntimeWarning: invalid value encountered in sqrt\n",
      "  epsilon = np.sqrt(P/(w**2))+P\n",
      "/var/folders/71/rd8s6g0x52sd1l6wnf9_z6_r0000gn/T/ipykernel_12514/3423875367.py:7: RuntimeWarning: invalid value encountered in sqrt\n",
      "  epsilon = np.sqrt(P/(w**2))+P\n",
      "/var/folders/71/rd8s6g0x52sd1l6wnf9_z6_r0000gn/T/ipykernel_12514/3423875367.py:7: RuntimeWarning: invalid value encountered in sqrt\n",
      "  epsilon = np.sqrt(P/(w**2))+P\n",
      "/var/folders/71/rd8s6g0x52sd1l6wnf9_z6_r0000gn/T/ipykernel_12514/3423875367.py:7: RuntimeWarning: invalid value encountered in sqrt\n",
      "  epsilon = np.sqrt(P/(w**2))+P\n",
      "/var/folders/71/rd8s6g0x52sd1l6wnf9_z6_r0000gn/T/ipykernel_12514/3423875367.py:7: RuntimeWarning: invalid value encountered in sqrt\n",
      "  epsilon = np.sqrt(P/(w**2))+P\n",
      "/var/folders/71/rd8s6g0x52sd1l6wnf9_z6_r0000gn/T/ipykernel_12514/3423875367.py:7: RuntimeWarning: invalid value encountered in sqrt\n",
      "  epsilon = np.sqrt(P/(w**2))+P\n",
      "/var/folders/71/rd8s6g0x52sd1l6wnf9_z6_r0000gn/T/ipykernel_12514/3423875367.py:7: RuntimeWarning: invalid value encountered in sqrt\n",
      "  epsilon = np.sqrt(P/(w**2))+P\n",
      "/var/folders/71/rd8s6g0x52sd1l6wnf9_z6_r0000gn/T/ipykernel_12514/3423875367.py:7: RuntimeWarning: invalid value encountered in sqrt\n",
      "  epsilon = np.sqrt(P/(w**2))+P\n",
      "/var/folders/71/rd8s6g0x52sd1l6wnf9_z6_r0000gn/T/ipykernel_12514/3423875367.py:7: RuntimeWarning: invalid value encountered in sqrt\n",
      "  epsilon = np.sqrt(P/(w**2))+P\n",
      "/var/folders/71/rd8s6g0x52sd1l6wnf9_z6_r0000gn/T/ipykernel_12514/3423875367.py:7: RuntimeWarning: invalid value encountered in sqrt\n",
      "  epsilon = np.sqrt(P/(w**2))+P\n",
      "/var/folders/71/rd8s6g0x52sd1l6wnf9_z6_r0000gn/T/ipykernel_12514/3423875367.py:7: RuntimeWarning: invalid value encountered in sqrt\n",
      "  epsilon = np.sqrt(P/(w**2))+P\n",
      "/var/folders/71/rd8s6g0x52sd1l6wnf9_z6_r0000gn/T/ipykernel_12514/3423875367.py:7: RuntimeWarning: invalid value encountered in sqrt\n",
      "  epsilon = np.sqrt(P/(w**2))+P\n",
      "/var/folders/71/rd8s6g0x52sd1l6wnf9_z6_r0000gn/T/ipykernel_12514/3423875367.py:7: RuntimeWarning: invalid value encountered in sqrt\n",
      "  epsilon = np.sqrt(P/(w**2))+P\n",
      "/var/folders/71/rd8s6g0x52sd1l6wnf9_z6_r0000gn/T/ipykernel_12514/3423875367.py:7: RuntimeWarning: invalid value encountered in sqrt\n",
      "  epsilon = np.sqrt(P/(w**2))+P\n",
      "/var/folders/71/rd8s6g0x52sd1l6wnf9_z6_r0000gn/T/ipykernel_12514/3423875367.py:7: RuntimeWarning: invalid value encountered in sqrt\n",
      "  epsilon = np.sqrt(P/(w**2))+P\n",
      "/var/folders/71/rd8s6g0x52sd1l6wnf9_z6_r0000gn/T/ipykernel_12514/3423875367.py:7: RuntimeWarning: invalid value encountered in sqrt\n",
      "  epsilon = np.sqrt(P/(w**2))+P\n",
      "/var/folders/71/rd8s6g0x52sd1l6wnf9_z6_r0000gn/T/ipykernel_12514/3423875367.py:7: RuntimeWarning: invalid value encountered in sqrt\n",
      "  epsilon = np.sqrt(P/(w**2))+P\n",
      "/var/folders/71/rd8s6g0x52sd1l6wnf9_z6_r0000gn/T/ipykernel_12514/3423875367.py:7: RuntimeWarning: invalid value encountered in sqrt\n",
      "  epsilon = np.sqrt(P/(w**2))+P\n",
      "/var/folders/71/rd8s6g0x52sd1l6wnf9_z6_r0000gn/T/ipykernel_12514/3423875367.py:7: RuntimeWarning: invalid value encountered in sqrt\n",
      "  epsilon = np.sqrt(P/(w**2))+P\n",
      "/var/folders/71/rd8s6g0x52sd1l6wnf9_z6_r0000gn/T/ipykernel_12514/3423875367.py:7: RuntimeWarning: invalid value encountered in sqrt\n",
      "  epsilon = np.sqrt(P/(w**2))+P\n",
      "/var/folders/71/rd8s6g0x52sd1l6wnf9_z6_r0000gn/T/ipykernel_12514/3423875367.py:7: RuntimeWarning: invalid value encountered in sqrt\n",
      "  epsilon = np.sqrt(P/(w**2))+P\n",
      "/var/folders/71/rd8s6g0x52sd1l6wnf9_z6_r0000gn/T/ipykernel_12514/3423875367.py:7: RuntimeWarning: invalid value encountered in sqrt\n",
      "  epsilon = np.sqrt(P/(w**2))+P\n",
      "/var/folders/71/rd8s6g0x52sd1l6wnf9_z6_r0000gn/T/ipykernel_12514/3423875367.py:7: RuntimeWarning: invalid value encountered in sqrt\n",
      "  epsilon = np.sqrt(P/(w**2))+P\n",
      "/var/folders/71/rd8s6g0x52sd1l6wnf9_z6_r0000gn/T/ipykernel_12514/3423875367.py:7: RuntimeWarning: invalid value encountered in sqrt\n",
      "  epsilon = np.sqrt(P/(w**2))+P\n",
      "/var/folders/71/rd8s6g0x52sd1l6wnf9_z6_r0000gn/T/ipykernel_12514/3423875367.py:7: RuntimeWarning: invalid value encountered in sqrt\n",
      "  epsilon = np.sqrt(P/(w**2))+P\n",
      "/var/folders/71/rd8s6g0x52sd1l6wnf9_z6_r0000gn/T/ipykernel_12514/3423875367.py:7: RuntimeWarning: invalid value encountered in sqrt\n",
      "  epsilon = np.sqrt(P/(w**2))+P\n",
      "/var/folders/71/rd8s6g0x52sd1l6wnf9_z6_r0000gn/T/ipykernel_12514/3423875367.py:7: RuntimeWarning: invalid value encountered in sqrt\n",
      "  epsilon = np.sqrt(P/(w**2))+P\n",
      "/var/folders/71/rd8s6g0x52sd1l6wnf9_z6_r0000gn/T/ipykernel_12514/3423875367.py:7: RuntimeWarning: invalid value encountered in sqrt\n",
      "  epsilon = np.sqrt(P/(w**2))+P\n",
      "/var/folders/71/rd8s6g0x52sd1l6wnf9_z6_r0000gn/T/ipykernel_12514/3423875367.py:7: RuntimeWarning: invalid value encountered in sqrt\n",
      "  epsilon = np.sqrt(P/(w**2))+P\n",
      "/var/folders/71/rd8s6g0x52sd1l6wnf9_z6_r0000gn/T/ipykernel_12514/3423875367.py:7: RuntimeWarning: invalid value encountered in sqrt\n",
      "  epsilon = np.sqrt(P/(w**2))+P\n",
      "/var/folders/71/rd8s6g0x52sd1l6wnf9_z6_r0000gn/T/ipykernel_12514/3423875367.py:7: RuntimeWarning: invalid value encountered in sqrt\n",
      "  epsilon = np.sqrt(P/(w**2))+P\n",
      "/var/folders/71/rd8s6g0x52sd1l6wnf9_z6_r0000gn/T/ipykernel_12514/3423875367.py:7: RuntimeWarning: invalid value encountered in sqrt\n",
      "  epsilon = np.sqrt(P/(w**2))+P\n",
      "/var/folders/71/rd8s6g0x52sd1l6wnf9_z6_r0000gn/T/ipykernel_12514/3423875367.py:7: RuntimeWarning: invalid value encountered in sqrt\n",
      "  epsilon = np.sqrt(P/(w**2))+P\n",
      "/var/folders/71/rd8s6g0x52sd1l6wnf9_z6_r0000gn/T/ipykernel_12514/3423875367.py:7: RuntimeWarning: invalid value encountered in sqrt\n",
      "  epsilon = np.sqrt(P/(w**2))+P\n",
      "/var/folders/71/rd8s6g0x52sd1l6wnf9_z6_r0000gn/T/ipykernel_12514/3423875367.py:7: RuntimeWarning: invalid value encountered in sqrt\n",
      "  epsilon = np.sqrt(P/(w**2))+P\n",
      "/var/folders/71/rd8s6g0x52sd1l6wnf9_z6_r0000gn/T/ipykernel_12514/3423875367.py:7: RuntimeWarning: invalid value encountered in sqrt\n",
      "  epsilon = np.sqrt(P/(w**2))+P\n",
      "/var/folders/71/rd8s6g0x52sd1l6wnf9_z6_r0000gn/T/ipykernel_12514/3423875367.py:7: RuntimeWarning: invalid value encountered in sqrt\n",
      "  epsilon = np.sqrt(P/(w**2))+P\n",
      "/var/folders/71/rd8s6g0x52sd1l6wnf9_z6_r0000gn/T/ipykernel_12514/3423875367.py:7: RuntimeWarning: invalid value encountered in sqrt\n",
      "  epsilon = np.sqrt(P/(w**2))+P\n",
      "/var/folders/71/rd8s6g0x52sd1l6wnf9_z6_r0000gn/T/ipykernel_12514/3423875367.py:7: RuntimeWarning: invalid value encountered in sqrt\n",
      "  epsilon = np.sqrt(P/(w**2))+P\n",
      "/var/folders/71/rd8s6g0x52sd1l6wnf9_z6_r0000gn/T/ipykernel_12514/3423875367.py:7: RuntimeWarning: invalid value encountered in sqrt\n",
      "  epsilon = np.sqrt(P/(w**2))+P\n",
      "/var/folders/71/rd8s6g0x52sd1l6wnf9_z6_r0000gn/T/ipykernel_12514/3423875367.py:7: RuntimeWarning: invalid value encountered in sqrt\n",
      "  epsilon = np.sqrt(P/(w**2))+P\n",
      "/var/folders/71/rd8s6g0x52sd1l6wnf9_z6_r0000gn/T/ipykernel_12514/3423875367.py:7: RuntimeWarning: invalid value encountered in sqrt\n",
      "  epsilon = np.sqrt(P/(w**2))+P\n",
      "/var/folders/71/rd8s6g0x52sd1l6wnf9_z6_r0000gn/T/ipykernel_12514/3423875367.py:7: RuntimeWarning: invalid value encountered in sqrt\n",
      "  epsilon = np.sqrt(P/(w**2))+P\n"
     ]
    },
    {
     "name": "stderr",
     "output_type": "stream",
     "text": [
      "/var/folders/71/rd8s6g0x52sd1l6wnf9_z6_r0000gn/T/ipykernel_12514/3423875367.py:7: RuntimeWarning: invalid value encountered in sqrt\n",
      "  epsilon = np.sqrt(P/(w**2))+P\n",
      "/var/folders/71/rd8s6g0x52sd1l6wnf9_z6_r0000gn/T/ipykernel_12514/3423875367.py:7: RuntimeWarning: invalid value encountered in sqrt\n",
      "  epsilon = np.sqrt(P/(w**2))+P\n",
      "/var/folders/71/rd8s6g0x52sd1l6wnf9_z6_r0000gn/T/ipykernel_12514/3423875367.py:7: RuntimeWarning: invalid value encountered in sqrt\n",
      "  epsilon = np.sqrt(P/(w**2))+P\n",
      "/var/folders/71/rd8s6g0x52sd1l6wnf9_z6_r0000gn/T/ipykernel_12514/3423875367.py:7: RuntimeWarning: invalid value encountered in sqrt\n",
      "  epsilon = np.sqrt(P/(w**2))+P\n",
      "/var/folders/71/rd8s6g0x52sd1l6wnf9_z6_r0000gn/T/ipykernel_12514/3423875367.py:7: RuntimeWarning: invalid value encountered in sqrt\n",
      "  epsilon = np.sqrt(P/(w**2))+P\n",
      "/var/folders/71/rd8s6g0x52sd1l6wnf9_z6_r0000gn/T/ipykernel_12514/3423875367.py:7: RuntimeWarning: invalid value encountered in sqrt\n",
      "  epsilon = np.sqrt(P/(w**2))+P\n",
      "/var/folders/71/rd8s6g0x52sd1l6wnf9_z6_r0000gn/T/ipykernel_12514/3423875367.py:7: RuntimeWarning: invalid value encountered in sqrt\n",
      "  epsilon = np.sqrt(P/(w**2))+P\n",
      "/var/folders/71/rd8s6g0x52sd1l6wnf9_z6_r0000gn/T/ipykernel_12514/3423875367.py:7: RuntimeWarning: invalid value encountered in sqrt\n",
      "  epsilon = np.sqrt(P/(w**2))+P\n",
      "/var/folders/71/rd8s6g0x52sd1l6wnf9_z6_r0000gn/T/ipykernel_12514/3423875367.py:7: RuntimeWarning: invalid value encountered in sqrt\n",
      "  epsilon = np.sqrt(P/(w**2))+P\n",
      "/var/folders/71/rd8s6g0x52sd1l6wnf9_z6_r0000gn/T/ipykernel_12514/3423875367.py:7: RuntimeWarning: invalid value encountered in sqrt\n",
      "  epsilon = np.sqrt(P/(w**2))+P\n",
      "/var/folders/71/rd8s6g0x52sd1l6wnf9_z6_r0000gn/T/ipykernel_12514/3423875367.py:7: RuntimeWarning: invalid value encountered in sqrt\n",
      "  epsilon = np.sqrt(P/(w**2))+P\n",
      "/var/folders/71/rd8s6g0x52sd1l6wnf9_z6_r0000gn/T/ipykernel_12514/3423875367.py:7: RuntimeWarning: invalid value encountered in sqrt\n",
      "  epsilon = np.sqrt(P/(w**2))+P\n",
      "/var/folders/71/rd8s6g0x52sd1l6wnf9_z6_r0000gn/T/ipykernel_12514/3423875367.py:7: RuntimeWarning: invalid value encountered in sqrt\n",
      "  epsilon = np.sqrt(P/(w**2))+P\n",
      "/var/folders/71/rd8s6g0x52sd1l6wnf9_z6_r0000gn/T/ipykernel_12514/3423875367.py:7: RuntimeWarning: invalid value encountered in sqrt\n",
      "  epsilon = np.sqrt(P/(w**2))+P\n",
      "/var/folders/71/rd8s6g0x52sd1l6wnf9_z6_r0000gn/T/ipykernel_12514/3423875367.py:7: RuntimeWarning: invalid value encountered in sqrt\n",
      "  epsilon = np.sqrt(P/(w**2))+P\n",
      "/var/folders/71/rd8s6g0x52sd1l6wnf9_z6_r0000gn/T/ipykernel_12514/3423875367.py:7: RuntimeWarning: invalid value encountered in sqrt\n",
      "  epsilon = np.sqrt(P/(w**2))+P\n",
      "/var/folders/71/rd8s6g0x52sd1l6wnf9_z6_r0000gn/T/ipykernel_12514/3423875367.py:7: RuntimeWarning: invalid value encountered in sqrt\n",
      "  epsilon = np.sqrt(P/(w**2))+P\n",
      "/var/folders/71/rd8s6g0x52sd1l6wnf9_z6_r0000gn/T/ipykernel_12514/3423875367.py:7: RuntimeWarning: invalid value encountered in sqrt\n",
      "  epsilon = np.sqrt(P/(w**2))+P\n",
      "/var/folders/71/rd8s6g0x52sd1l6wnf9_z6_r0000gn/T/ipykernel_12514/3423875367.py:7: RuntimeWarning: invalid value encountered in sqrt\n",
      "  epsilon = np.sqrt(P/(w**2))+P\n",
      "/var/folders/71/rd8s6g0x52sd1l6wnf9_z6_r0000gn/T/ipykernel_12514/3423875367.py:7: RuntimeWarning: invalid value encountered in sqrt\n",
      "  epsilon = np.sqrt(P/(w**2))+P\n"
     ]
    },
    {
     "data": {
      "image/png": "[encoded data removed]",
      "text/plain": [
       "<Figure size 864x864 with 1 Axes>"
      ]
     },
     "metadata": {
      "needs_background": "light"
     },
     "output_type": "display_data"
    }
   ],
   "source": [
    "# interaction_strength =  1e-2 * np.array([10 ** n for n in range(6)])\n",
    "interaction_strength =  np.logspace(-2, 3, 70)\n",
    "\n",
    "r_span = (1e-10, 1e5) \n",
    "\n",
    "plt.figure(figsize=(12, 12))\n",
    "\n",
    "for y in interaction_strength:\n",
    "    # interaction strength \n",
    "    params = (y,)\n",
    "    \n",
    "    starting_pressure = 1e-6/y\n",
    "    initial_pressures =  starting_pressure*np.array([(2**n) for n in  range(40)])\n",
    "    \n",
    "    star = np.zeros((len(initial_pressures), 3)) \n",
    "    \n",
    "    for i, pi in enumerate(initial_pressures):\n",
    "        # initial mass\n",
    "        M0=0\n",
    "        initial_conditions = [pi,M0]\n",
    "\n",
    "        # solve the differential TOV equation\n",
    "        sol = solve_ivp(tov_equations, r_span, initial_conditions, args=params,\n",
    "                        method='RK45', events=pressure_condition,  \n",
    "                        atol=1e-8, rtol=1e-8, dense_output=True)\n",
    "\n",
    "        # Extracting results\n",
    "        r_sol = sol.t\n",
    "        p_sol = sol.y[0]\n",
    "        M_sol = sol.y[1]\n",
    "    #     plt.plot(r_sol, p_sol)\n",
    "    #     plt.xlabel('r'); plt.ylabel('pressure')\n",
    "    #     plt.xscale('log')\n",
    "    #     plt.yscale('log')\n",
    "\n",
    "        # Extract the final radius, mass and pressure\n",
    "        R = r_sol[-1]\n",
    "        M = M_sol[-1]\n",
    "        P = p_sol[-1]\n",
    "\n",
    "        # save to array\n",
    "        star[i] = [M, P, R]\n",
    "        \n",
    "    offset = -star[:,2][0]*0.7\n",
    "    # plot M, R\n",
    "    plt.loglog(star[:,2], star[:,0], color='k', label= \"y = %.2f\" %(y))\n",
    "    if y == 1e-2:\n",
    "        plt.text(star[:,2][0]+(offset/1.2), star[:,0][0], r\"$y = 10^{-2} $\", fontsize=12, color='k', ha='center')\n",
    "    elif y == 1e3:\n",
    "        plt.text(star[:,2][0]-offset, star[:,0][0], r\"$y = 10^{3} $\", fontsize=12, color='k', ha='center')\n",
    "    plt.xlabel(\"R'\")\n",
    "    plt.ylabel(\"M'\")\n",
    "    \n",
    "    \n",
    "# plt.legend()\n",
    "plt.xlim(1e-3, 4e3)\n",
    "plt.show()"
   ]
  },
  {
   "cell_type": "code",
   "execution_count": 158,
   "metadata": {},
   "outputs": [
    {
     "data": {
      "text/plain": [
       "(1e-05, 1)"
      ]
     },
     "execution_count": 158,
     "metadata": {},
     "output_type": "execute_result"
    },
    {
     "data": {
      "image/png": "[encoded data removed]",
      "text/plain": [
       "<Figure size 432x288 with 1 Axes>"
      ]
     },
     "metadata": {
      "needs_background": "light"
     },
     "output_type": "display_data"
    }
   ],
   "source": [
    "# plot M, R\n",
    "M = star[:,0]\n",
    "P = star[:,1]\n",
    "R = star[:,2]\n",
    "\n",
    "\n",
    "plt.loglog(R, M)\n",
    "plt.xlabel(\"R'\")\n",
    "plt.ylabel(\"M'\")\n",
    "plt.xlim(1e-3, 10)\n",
    "plt.ylim(1e-5,1)"
   ]
  },
  {
   "cell_type": "code",
   "execution_count": 208,
   "metadata": {},
   "outputs": [
    {
     "name": "stdout",
     "output_type": "stream",
     "text": [
      "1e-07\n"
     ]
    },
    {
     "name": "stderr",
     "output_type": "stream",
     "text": [
      "/var/folders/71/rd8s6g0x52sd1l6wnf9_z6_r0000gn/T/ipykernel_12514/3423875367.py:7: RuntimeWarning: invalid value encountered in sqrt\n",
      "  epsilon = np.sqrt(P/(w**2))+P\n"
     ]
    },
    {
     "data": {
      "image/png": "[encoded data removed]",
      "text/plain": [
       "<Figure size 432x288 with 1 Axes>"
      ]
     },
     "metadata": {
      "needs_background": "light"
     },
     "output_type": "display_data"
    }
   ],
   "source": [
    "interaction_strength = 10\n",
    "params = (interaction_strength,)\n",
    "\n",
    "starting_pressure = 1e-6/interaction_strength\n",
    "print(starting_pressure)\n",
    "initial_pressures =  starting_pressure*np.array([(2**n) for n in  range(30)])\n",
    "\n",
    "interaction_strength =  1e-4 * np.array([10 ** n for n in range(10)])\n",
    "\n",
    "star = np.zeros((len(initial_pressures), 3)) # [M,P,R] for each initial pressure\n",
    "\n",
    "r_span = (1e-8, 1e4) \n",
    "    \n",
    "for i, pi in enumerate(initial_pressures):\n",
    "    # initial mass\n",
    "    M0=0\n",
    "    initial_conditions = [pi,M0]\n",
    "\n",
    "    # solve the differential TOV equation\n",
    "    sol = solve_ivp(tov_equations, r_span, initial_conditions, args=params,\n",
    "                    method='RK45', events=pressure_condition,  \n",
    "                    atol=1e-8, rtol=1e-8, dense_output=True)\n",
    "\n",
    "    # Extracting results\n",
    "    r_sol = sol.t\n",
    "    p_sol = sol.y[0]\n",
    "    M_sol = sol.y[1]\n",
    "\n",
    "    # Extract the final radius, mass and pressure\n",
    "    R = r_sol[-1]\n",
    "    M = M_sol[-1]\n",
    "    P = p_sol[-1]\n",
    "\n",
    "    # save to array\n",
    "    star[i] = [M, P, R]\n",
    "\n",
    "# plot M, R\n",
    "plt.loglog(star[:,2], star[:,0])\n",
    "plt.xlabel(\"R'\")\n",
    "plt.ylabel(\"M'\")\n",
    "    \n",
    "plt.show()"
   ]
  },
  {
   "cell_type": "markdown",
   "metadata": {},
   "source": [
    "# Scaling relations and interaction terms"
   ]
  },
  {
   "cell_type": "code",
   "execution_count": null,
   "metadata": {},
   "outputs": [],
   "source": []
  },
  {
   "cell_type": "markdown",
   "metadata": {},
   "source": [
    "# Calculate dimensionful quantities for Axion Boson Stars"
   ]
  },
  {
   "cell_type": "markdown",
   "metadata": {},
   "source": [
    "Can try making your own dark matter stars..."
   ]
  },
  {
   "cell_type": "code",
   "execution_count": null,
   "metadata": {},
   "outputs": [],
   "source": []
  },
  {
   "cell_type": "markdown",
   "metadata": {},
   "source": [
    "# Notes"
   ]
  },
  {
   "cell_type": "markdown",
   "metadata": {},
   "source": [
    "- Try calculating dimensionful quantaties for Mass and Radius of hypothetical boson stars\n",
    "- \n",
    "- Adding temperarture (Boson star paper)"
   ]
  },
  {
   "cell_type": "markdown",
   "metadata": {},
   "source": [
    "Notes Feburary:\n",
    "- free fall time Ryden \n",
    "- Cooling by photons \n",
    "- Estimate the mass of Galaxies with free fall time \n",
    "- Cloud is collapsing into galaxies (jeans criteria)\n",
    "- 10^11 solar masses (mass scale of a galaxy)\n",
    "- Do the same for dark matter -> look as dark matter cloud and calculate using free fall to calcualte the characteristic mass scale of dark matter boson stars \n",
    "- Theoretical Astrophysics padmonovan (introduction) Galaxy collapse \n",
    "- free fall time scale vs cooling time scale (set them equal)\n",
    "\n",
    "- add temerature to the TOV equation to have hot boson stars"
   ]
  },
  {
   "cell_type": "code",
   "execution_count": null,
   "metadata": {},
   "outputs": [],
   "source": []
  }
 ],
 "metadata": {
  "kernelspec": {
   "display_name": "Python 3 (ipykernel)",
   "language": "python",
   "name": "python3"
  },
  "language_info": {
   "codemirror_mode": {
    "name": "ipython",
    "version": 3
   },
   "file_extension": ".py",
   "mimetype": "text/x-python",
   "name": "python",
   "nbconvert_exporter": "python",
   "pygments_lexer": "ipython3",
   "version": "3.9.12"
  },
  "toc": {
   "base_numbering": 1,
   "nav_menu": {},
   "number_sections": true,
   "sideBar": true,
   "skip_h1_title": false,
   "title_cell": "Table of Contents",
   "title_sidebar": "Contents",
   "toc_cell": false,
   "toc_position": {
    "height": "calc(100% - 180px)",
    "left": "10px",
    "top": "150px",
    "width": "165px"
   },
   "toc_section_display": true,
   "toc_window_display": true
  }
 },
 "nbformat": 4,
 "nbformat_minor": 2
}
