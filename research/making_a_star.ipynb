{
 "cells": [
  {
   "cell_type": "markdown",
   "id": "07fb947b",
   "metadata": {},
   "source": [
    "# Imports"
   ]
  },
  {
   "cell_type": "code",
   "execution_count": 1,
   "id": "1d806687",
   "metadata": {},
   "outputs": [
    {
     "name": "stderr",
     "output_type": "stream",
     "text": [
      "/Users/adamsmith/opt/anaconda3/lib/python3.9/site-packages/scipy/__init__.py:146: UserWarning: A NumPy version >=1.16.5 and <1.23.0 is required for this version of SciPy (detected version 1.26.1\n",
      "  warnings.warn(f\"A NumPy version >={np_minversion} and <{np_maxversion}\"\n"
     ]
    }
   ],
   "source": [
    "import numpy as np\n",
    "from scipy.integrate import solve_ivp\n",
    "from scipy.interpolate import interp1d\n",
    "from scipy.optimize import brentq, newton\n",
    "import matplotlib.pyplot as plt\n",
    "import pandas as pd"
   ]
  },
  {
   "cell_type": "markdown",
   "id": "6c6a2862",
   "metadata": {},
   "source": [
    "# Notes"
   ]
  },
  {
   "cell_type": "markdown",
   "id": "e6403beb",
   "metadata": {},
   "source": [
    "**Dark Matter Model**\n",
    "\n",
    "We start with a minimal dark matter model that includes a dark boson and a dark photon mediator. We may follow Ref [1](https://arxiv.org/abs/0812.2770v2) where a boson with repuslive self interactions is chosen. Ref [1](https://arxiv.org/abs/0812.2770v2) provides an equation of state that is used to solve the TOV eqations. Further, a speed of sound and a thermodynamic regime are required to study the growth of overdensities using linear pertubation theory. \n",
    "\n",
    "**Boson Star**\n",
    "\n",
    "The dark matter boson with repulsive self inteaction in Ref [1](https://arxiv.org/abs/0812.2770v2) has scaling relations following the solutions to the TOV equation and a maximum mass and radius simialr to the Landau results with a scaling due to the ineraction strength. \n",
    "\n",
    "**Fragmentation**\n",
    "\n",
    "Given a dark matter boson and photon, we want to use a Jeans analysis to calculate the fragmentation of a dark matter halo into minimal componenets, i.e. exotic compact object. Solving for the Jeans mass and using a bremsstrahlung cooling mechanism we want to find the typical size and abundance of boson stars following Ref [2](https://arxiv.org/abs/1812.07000)."
   ]
  },
  {
   "cell_type": "markdown",
   "id": "8dd808ae",
   "metadata": {},
   "source": [
    "# Dark matter model "
   ]
  },
  {
   "cell_type": "markdown",
   "id": "8c55b397",
   "metadata": {},
   "source": [
    "Equation of state for bososn is:\n",
    "\n",
    "$$ p = y^2 n_b'^2 \\;, \\quad \\text{and} \\quad \\epsilon = n_b' + y^2 n_b'^2$$\n",
    "\n",
    "where $n_b'=n_b/m_b^3$. While for ineracting gas of bosons, \n",
    "\n",
    "$$ p = y^2 n_b'^2 + n_b'T \\;, \\quad \\text{and} \\quad \\epsilon = 3/2n_b'T+ y n_b'^2 + mn_b' \\quad .$$\n",
    "\n",
    "For the speed of sound, requried to study growth of overdentities, we use, \n",
    "\n",
    "$$ $$"
   ]
  },
  {
   "cell_type": "code",
   "execution_count": 24,
   "id": "09e2bce8",
   "metadata": {},
   "outputs": [
    {
     "data": {
      "text/latex": [
       "$\\displaystyle \\frac{\\left(T - \\sqrt{4 P y + T^{2}}\\right) \\left(- 2.0 T - 2 m - \\sqrt{4 P y + T^{2}}\\right)}{4 y}$"
      ],
      "text/plain": [
       "(T - sqrt(4*P*y + T**2))*(-2.0*T - 2*m - sqrt(4*P*y + T**2))/(4*y)"
      ]
     },
     "execution_count": 24,
     "metadata": {},
     "output_type": "execute_result"
    }
   ],
   "source": [
    "from sympy import symbols, solve, Eq, simplify\n",
    "\n",
    "# Redefine symbols specifying positivity\n",
    "n, T, y, m, P, e = symbols('n T y m P e', positive=True)\n",
    "\n",
    "# Equations definition\n",
    "eq_P = Eq(P, n*T + y*n**2)  # P equation\n",
    "eq_e = ((3/2)*n*T + y*n**2 + m*n)  # Expression for e, not an equation\n",
    "\n",
    "# Solve eq_P for n\n",
    "n_solution = solve(eq_P, n)\n",
    "\n",
    "\n",
    "e_substituted = eq_e.subs(n, n_solution[0])\n",
    "\n",
    "# Simplify the expression (optional, for cleaner output)\n",
    "e_simplified = simplify(e_substituted)\n",
    "\n",
    "e_simplified\n"
   ]
  },
  {
   "cell_type": "code",
   "execution_count": 2,
   "id": "e861e2bc",
   "metadata": {},
   "outputs": [],
   "source": [
    "mb = 1 # mass of boson\n",
    "y = 1 # interaction term "
   ]
  },
  {
   "cell_type": "code",
   "execution_count": 25,
   "id": "d04f28d3",
   "metadata": {},
   "outputs": [],
   "source": [
    "class EOS:\n",
    "    def __init__(self, P, params):\n",
    "        self.P = P\n",
    "        self.params = params\n",
    "        self.eos_types = {\n",
    "            'radiation':self.radiation_eos,\n",
    "            'boson':self.boson_eos,\n",
    "            'boson_temp':self.boson_temp_eos\n",
    "        }\n",
    "        \n",
    "    def radiation_eos(self):\n",
    "        w, _, _, _ = self.params\n",
    "        return self.P / w\n",
    "\n",
    "    def boson_eos(self):\n",
    "        y, _, _, _ = self.params\n",
    "        return np.sqrt(self.P/(y**2))+self.P\n",
    "    \n",
    "    def boson_temp_eos(self):\n",
    "        y, n, m, T = self.params\n",
    "        t1 = T - np.sqrt(4*self.P*y + T**2)\n",
    "        t2 = -2*T - 2*m - np.sqrt(4*self.P*y + T**2)\n",
    "        return (t1*t2)/(4*y)\n",
    "    \n",
    "    def get_eos(self, eos_type):\n",
    "        if eos_type in self.eos_types:\n",
    "            return self.eos_types[eos_type]()\n",
    "        else:\n",
    "            raise ValueError(f\"Equation of state '{eos_type}' is not defined.\")"
   ]
  },
  {
   "cell_type": "code",
   "execution_count": 26,
   "id": "acb65389",
   "metadata": {},
   "outputs": [],
   "source": [
    "eos = EOS(1, (2,3,2,1))"
   ]
  },
  {
   "cell_type": "code",
   "execution_count": 28,
   "id": "9f37b3c2",
   "metadata": {},
   "outputs": [
    {
     "data": {
      "text/plain": [
       "1.5"
      ]
     },
     "execution_count": 28,
     "metadata": {},
     "output_type": "execute_result"
    }
   ],
   "source": [
    "eos.get_eos('boson')"
   ]
  },
  {
   "cell_type": "code",
   "execution_count": 51,
   "id": "9a0b4237",
   "metadata": {},
   "outputs": [],
   "source": [
    "# tov equations for boson star in dimensionless form \n",
    "def TOV(r, y, params, eos_type='boson'):\n",
    "    # Pressure and mass\n",
    "    P, M = y\n",
    "    \n",
    "    # Equation of state for energy density\n",
    "    eos = EOS(P, params)\n",
    "    eps = eos.get_eos(eos_type)\n",
    "\n",
    "    # Handle singularities\n",
    "    r = max(r, 1e-6)\n",
    "    M = max(M, 1e-10)\n",
    "    \n",
    "    # dpdr\n",
    "    prefactor = -(M*eps)/r**2\n",
    "    corr1 = (1 + (P/eps))\n",
    "    corr2 = (1 + ((4*np.pi*(r**3)*P)/M))\n",
    "    corr3 = (1 - ((2*M)/r))**-1\n",
    "    \n",
    "    dpdr = prefactor*corr1*corr2*corr3\n",
    "    \n",
    "    # dmdr\n",
    "    dmdr = 4*np.pi*(r**2)*eps\n",
    "    \n",
    "    return [dpdr, dmdr]"
   ]
  },
  {
   "cell_type": "code",
   "execution_count": 57,
   "id": "87d9f046",
   "metadata": {},
   "outputs": [
    {
     "data": {
      "text/plain": [
       "[-3022.506585801301, 176.5869523758477]"
      ]
     },
     "execution_count": 57,
     "metadata": {},
     "output_type": "execute_result"
    }
   ],
   "source": [
    "r = 1\n",
    "y = 10, 0\n",
    "params = (1,2,1,1)\n",
    "\n",
    "TOV(r, y, params, eos_type='boson_temp')"
   ]
  },
  {
   "cell_type": "code",
   "execution_count": 58,
   "id": "1aec4824",
   "metadata": {},
   "outputs": [],
   "source": [
    "r_span = (1e-5,10) \n",
    "\n",
    "# initial conditions for pressure and mass\n",
    "P0=1\n",
    "M0=0\n",
    "# tuple for args \n",
    "w=(y,)\n",
    "\n",
    "initial_conditions = (P0,M0)\n",
    "params = (1,1,1,1)\n",
    "\n",
    "def pressure_condition(r, y):\n",
    "    P, M = y\n",
    "    return P\n",
    "\n",
    "# condition to stop integration\n",
    "pressure_condition.terminal = True  \n",
    "pressure_condition.direction = -1  \n",
    "\n",
    "def tov_ivp(r, y):\n",
    "    return TOV(r, y, params, eos_type='boson_temp')\n",
    "\n",
    "# solve the differential TOV equation\n",
    "sol = solve_ivp(tov_ivp, r_span, initial_conditions, \n",
    "                method='RK45', \n",
    "                events=pressure_condition, \n",
    "                atol=1e-6, rtol=1e-9)"
   ]
  },
  {
   "cell_type": "code",
   "execution_count": 56,
   "id": "31fa88b2",
   "metadata": {},
   "outputs": [
    {
     "name": "stderr",
     "output_type": "stream",
     "text": [
      "/var/folders/71/rd8s6g0x52sd1l6wnf9_z6_r0000gn/T/ipykernel_17881/444206098.py:17: RuntimeWarning: invalid value encountered in sqrt\n",
      "  return np.sqrt(self.P/(y**2))+self.P\n"
     ]
    },
    {
     "data": {
      "image/png": "[encoded data removed]",
      "text/plain": [
       "<Figure size 432x288 with 1 Axes>"
      ]
     },
     "metadata": {
      "needs_background": "light"
     },
     "output_type": "display_data"
    }
   ],
   "source": [
    "r_span = (1e-5,10)\n",
    "interaction_strength = 1\n",
    "params = (interaction_strength,1,1,1)\n",
    "\n",
    "starting_pressure = 1e-6/interaction_strength # scales as p/y\n",
    "initial_pressures =  starting_pressure*np.array([(2**n) for n in  range(30)]) # double every step\n",
    "\n",
    "star = np.zeros((len(initial_pressures), 3)) # [M,P,R] for each initial pressure\n",
    "    \n",
    "for i, pi in enumerate(initial_pressures):\n",
    "    # initial mass\n",
    "    M0=0\n",
    "    initial_conditions = [pi,M0]\n",
    "\n",
    "    # solve the differential TOV equation\n",
    "    sol = solve_ivp(tov_ivp, r_span, initial_conditions, \n",
    "                    method='RK45', events=pressure_condition,  \n",
    "                    atol=1e-8, rtol=1e-8, dense_output=True)\n",
    "\n",
    "    # Extracting results\n",
    "    r_sol = sol.t\n",
    "    p_sol = sol.y[0]\n",
    "    M_sol = sol.y[1]\n",
    "\n",
    "    # Extract the final radius, mass and pressure\n",
    "    R = r_sol[-1]\n",
    "    M = M_sol[-1]\n",
    "    P = p_sol[-1]\n",
    "\n",
    "    # save to array\n",
    "    star[i] = [M, P, R]\n",
    "\n",
    "# plot M, R\n",
    "plt.loglog(star[:,2], star[:,0])\n",
    "plt.xlabel(\"R'\")\n",
    "plt.ylabel(\"M'\")\n",
    "    \n",
    "plt.show()"
   ]
  },
  {
   "cell_type": "markdown",
   "id": "456cf3b6",
   "metadata": {},
   "source": [
    "## Testing temperature"
   ]
  },
  {
   "cell_type": "code",
   "execution_count": 91,
   "id": "d3c21640",
   "metadata": {},
   "outputs": [
    {
     "name": "stderr",
     "output_type": "stream",
     "text": [
      "/var/folders/71/rd8s6g0x52sd1l6wnf9_z6_r0000gn/T/ipykernel_17881/444206098.py:21: RuntimeWarning: invalid value encountered in sqrt\n",
      "  t1 = T - np.sqrt(4*self.P*y + T**2)\n",
      "/var/folders/71/rd8s6g0x52sd1l6wnf9_z6_r0000gn/T/ipykernel_17881/444206098.py:22: RuntimeWarning: invalid value encountered in sqrt\n",
      "  t2 = -2*T - 2*m - np.sqrt(4*self.P*y + T**2)\n"
     ]
    },
    {
     "data": {
      "image/png": "[encoded data removed]",
      "text/plain": [
       "<Figure size 432x288 with 1 Axes>"
      ]
     },
     "metadata": {
      "needs_background": "light"
     },
     "output_type": "display_data"
    }
   ],
   "source": [
    "# r_span = (1e-5,10)\n",
    "interaction_strength = 1\n",
    "\n",
    "starting_pressure = 1e-6/interaction_strength # scales as p/y\n",
    "initial_pressures =  starting_pressure*np.array([(2**n) for n in  range(30)]) # double every step\n",
    "\n",
    "star = np.zeros((len(initial_pressures), 3)) # [M,P,R] for each initial pressure\n",
    "\n",
    "temps = [1e-4]\n",
    "for T in temps:\n",
    "    for i, pi in enumerate(initial_pressures):\n",
    "        # initial mass\n",
    "        M0=0\n",
    "        initial_conditions = [pi,M0]\n",
    "        \n",
    "        params = (interaction_strength,1e-1,1,T) # y,n,m,T\n",
    "\n",
    "        # solve the differential TOV equation\n",
    "        sol = solve_ivp(tov_ivp, r_span, initial_conditions, \n",
    "                        method='RK45', events=pressure_condition,  \n",
    "                        atol=1e-8, rtol=1e-8, dense_output=True)\n",
    "\n",
    "        # Extracting results\n",
    "        r_sol = sol.t\n",
    "        p_sol = sol.y[0]\n",
    "        M_sol = sol.y[1]\n",
    "\n",
    "        # Extract the final radius, mass and pressure\n",
    "        R = r_sol[-1]\n",
    "        M = M_sol[-1]\n",
    "        P = p_sol[-1]\n",
    "\n",
    "        # save to array\n",
    "        star[i] = [M, P, R]\n",
    "\n",
    "    # plot M, R\n",
    "    plt.plot(star[:,2], star[:,0])\n",
    "    plt.xlabel(\"R'\")\n",
    "    plt.ylabel(\"M'\")\n",
    "    plt.yscale('log')\n",
    "\n",
    "    plt.xlim(9.99,10.01)\n",
    "    plt.show()"
   ]
  },
  {
   "cell_type": "code",
   "execution_count": 73,
   "id": "da5258ee",
   "metadata": {},
   "outputs": [],
   "source": [
    "# check EOS \n",
    "pressures = np.linspace(1e-2,100,num=100)\n",
    "params = (1,1,1,1)\n",
    "\n",
    "boson_list=[]\n",
    "temp_list=[]\n",
    "\n",
    "for p in pressures:\n",
    "    eos = EOS(p, params)\n",
    "    boson = eos.get_eos('boson')\n",
    "    boson_list.append([p, boson])\n",
    "    \n",
    "    temp = eos.get_eos('boson_temp')\n",
    "    temp_list.append([p, temp])"
   ]
  },
  {
   "cell_type": "code",
   "execution_count": 79,
   "id": "62d6e579",
   "metadata": {},
   "outputs": [
    {
     "data": {
      "text/plain": [
       "[<matplotlib.lines.Line2D at 0x7f848cba1ee0>]"
      ]
     },
     "execution_count": 79,
     "metadata": {},
     "output_type": "execute_result"
    },
    {
     "data": {
      "image/png": "[encoded data removed]",
      "text/plain": [
       "<Figure size 432x288 with 1 Axes>"
      ]
     },
     "metadata": {
      "needs_background": "light"
     },
     "output_type": "display_data"
    }
   ],
   "source": [
    "p = np.array(boson_list)[:,0]\n",
    "\n",
    "plt.plot(p,np.array(boson_list)[:,1])"
   ]
  },
  {
   "cell_type": "code",
   "execution_count": 80,
   "id": "811cbc99",
   "metadata": {},
   "outputs": [
    {
     "data": {
      "text/plain": [
       "[<matplotlib.lines.Line2D at 0x7f84aa9ceca0>]"
      ]
     },
     "execution_count": 80,
     "metadata": {},
     "output_type": "execute_result"
    },
    {
     "data": {
      "image/png": "[encoded data removed]",
      "text/plain": [
       "<Figure size 432x288 with 1 Axes>"
      ]
     },
     "metadata": {
      "needs_background": "light"
     },
     "output_type": "display_data"
    }
   ],
   "source": [
    "plt.plot(p,np.array(temp_list)[:,1])"
   ]
  },
  {
   "cell_type": "code",
   "execution_count": 87,
   "id": "8ec47d25",
   "metadata": {},
   "outputs": [
    {
     "data": {
      "text/plain": [
       "array([  0.11      ,   2.02995049,   3.45478068,   4.78355958,\n",
       "         6.06246118,   7.30944438,   8.533737  ,   9.74082694,\n",
       "        10.93429253,  12.11662063,  13.28962262,  14.4546664 ,\n",
       "        15.61281495,  16.76491379,  17.91164857,  19.05358447,\n",
       "        20.19119385,  21.32487636,  22.45497362,  23.58178046,\n",
       "        24.70555336,  25.82651712,  26.94487009,  28.06078832,\n",
       "        29.1744289 ,  30.28593275,  31.39542681,  32.50302594,\n",
       "        33.60883446,  34.71294744,  35.81545184,  36.91642743,\n",
       "        38.01594759,  39.11408001,  40.2108873 ,  41.3064275 ,\n",
       "        42.40075451,  43.49391855,  44.58596643,  45.67694193,\n",
       "        46.76688603,  47.85583716,  48.94383144,  50.03090282,\n",
       "        51.11708332,  52.20240313,  53.28689079,  54.37057327,\n",
       "        55.45347614,  56.53562364,  57.61703876,  58.69774338,\n",
       "        59.77775827,  60.85710325,  61.93579718,  63.01385806,\n",
       "        64.09130308,  65.16814865,  66.24441049,  67.32010363,\n",
       "        68.39524245,  69.46984076,  70.5439118 ,  71.61746827,\n",
       "        72.69052237,  73.76308583,  74.83516993,  75.90678552,\n",
       "        76.97794305,  78.04865259,  79.11892383,  80.18876614,\n",
       "        81.25818855,  82.32719978,  83.39580823,  84.46402206,\n",
       "        85.53184912,  86.59929702,  87.66637313,  88.73308457,\n",
       "        89.79943825,  90.86544084,  91.93109883,  92.99641851,\n",
       "        94.06140597,  95.12606713,  96.19040772,  97.25443332,\n",
       "        98.31814934,  99.38156105, 100.44467357, 101.50749185,\n",
       "       102.57002075, 103.63226496, 104.69422906, 105.75591752,\n",
       "       106.81733466, 107.87848473, 108.93937184, 110.        ])"
      ]
     },
     "execution_count": 87,
     "metadata": {},
     "output_type": "execute_result"
    }
   ],
   "source": [
    "np.array(boson_list)[:,1]"
   ]
  },
  {
   "cell_type": "code",
   "execution_count": 88,
   "id": "6bf0058e",
   "metadata": {},
   "outputs": [
    {
     "data": {
      "text/plain": [
       "array([2.48529270e-02, 1.96041415e+00, 3.54495033e+00, 5.01075357e+00,\n",
       "       6.41046620e+00, 7.76651559e+00, 9.09094153e+00, 1.03910959e+01,\n",
       "       1.16718587e+01, 1.29366655e+01, 1.41880431e+01, 1.54279146e+01,\n",
       "       1.66577836e+01, 1.78788523e+01, 1.90920998e+01, 2.02983359e+01,\n",
       "       2.14982399e+01, 2.26923877e+01, 2.38812732e+01, 2.50653231e+01,\n",
       "       2.62449097e+01, 2.74203597e+01, 2.85919618e+01, 2.97599725e+01,\n",
       "       3.09246212e+01, 3.20861138e+01, 3.32446359e+01, 3.44003558e+01,\n",
       "       3.55534262e+01, 3.67039868e+01, 3.78521650e+01, 3.89980781e+01,\n",
       "       4.01418339e+01, 4.12835321e+01, 4.24232647e+01, 4.35611172e+01,\n",
       "       4.46971692e+01, 4.58314944e+01, 4.69641622e+01, 4.80952369e+01,\n",
       "       4.92247791e+01, 5.03528457e+01, 5.14794898e+01, 5.26047617e+01,\n",
       "       5.37287088e+01, 5.48513756e+01, 5.59728045e+01, 5.70930353e+01,\n",
       "       5.82121058e+01, 5.93300520e+01, 6.04469079e+01, 6.15627059e+01,\n",
       "       6.26774768e+01, 6.37912499e+01, 6.49040533e+01, 6.60159136e+01,\n",
       "       6.71268563e+01, 6.82369058e+01, 6.93460853e+01, 7.04544173e+01,\n",
       "       7.15619229e+01, 7.26686228e+01, 7.37745366e+01, 7.48796831e+01,\n",
       "       7.59840804e+01, 7.70877461e+01, 7.81906968e+01, 7.92929487e+01,\n",
       "       8.03945173e+01, 8.14954175e+01, 8.25956638e+01, 8.36952701e+01,\n",
       "       8.47942499e+01, 8.58926160e+01, 8.69903811e+01, 8.80875571e+01,\n",
       "       8.91841559e+01, 9.02801887e+01, 9.13756665e+01, 9.24705998e+01,\n",
       "       9.35649991e+01, 9.46588741e+01, 9.57522346e+01, 9.68450900e+01,\n",
       "       9.79374492e+01, 9.90293211e+01, 1.00120714e+02, 1.01211637e+02,\n",
       "       1.02302097e+02, 1.03392103e+02, 1.04481662e+02, 1.05570781e+02,\n",
       "       1.06659468e+02, 1.07747730e+02, 1.08835573e+02, 1.09923004e+02,\n",
       "       1.11010030e+02, 1.12096657e+02, 1.13182891e+02, 1.14268738e+02])"
      ]
     },
     "execution_count": 88,
     "metadata": {},
     "output_type": "execute_result"
    }
   ],
   "source": [
    "np.array(temp_list)[:,1]"
   ]
  },
  {
   "cell_type": "code",
   "execution_count": null,
   "id": "f5923e9e",
   "metadata": {},
   "outputs": [],
   "source": []
  }
 ],
 "metadata": {
  "kernelspec": {
   "display_name": "Python 3 (ipykernel)",
   "language": "python",
   "name": "python3"
  },
  "language_info": {
   "codemirror_mode": {
    "name": "ipython",
    "version": 3
   },
   "file_extension": ".py",
   "mimetype": "text/x-python",
   "name": "python",
   "nbconvert_exporter": "python",
   "pygments_lexer": "ipython3",
   "version": "3.9.12"
  },
  "toc": {
   "base_numbering": 1,
   "nav_menu": {},
   "number_sections": true,
   "sideBar": true,
   "skip_h1_title": false,
   "title_cell": "Table of Contents",
   "title_sidebar": "Contents",
   "toc_cell": false,
   "toc_position": {
    "height": "505.455px",
    "left": "143px",
    "top": "23.9058px",
    "width": "165px"
   },
   "toc_section_display": true,
   "toc_window_display": true
  }
 },
 "nbformat": 4,
 "nbformat_minor": 5
}
